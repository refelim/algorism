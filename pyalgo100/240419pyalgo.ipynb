{
  "nbformat": 4,
  "nbformat_minor": 0,
  "metadata": {
    "colab": {
      "provenance": [],
      "authorship_tag": "ABX9TyMpO8gn98vkSHaVIbQh6Grw",
      "include_colab_link": true
    },
    "kernelspec": {
      "name": "python3",
      "display_name": "Python 3"
    },
    "language_info": {
      "name": "python"
    }
  },
  "cells": [
    {
      "cell_type": "markdown",
      "metadata": {
        "id": "view-in-github",
        "colab_type": "text"
      },
      "source": [
        "<a href=\"https://colab.research.google.com/github/refelim/algorism/blob/main/240419pyalgo.ipynb\" target=\"_parent\"><img src=\"https://colab.research.google.com/assets/colab-badge.svg\" alt=\"Open In Colab\"/></a>"
      ]
    },
    {
      "cell_type": "markdown",
      "source": [
        "# 더하기\n",
        "## 홀수를 찾아서 합을 반환하는 함수를 완성해주세요\n",
        "\n"
      ],
      "metadata": {
        "id": "Bk2lalUXiFHz"
      }
    },
    {
      "cell_type": "code",
      "source": [
        "# 조건부 필터링\n",
        "\n",
        "def solution(data) : # 함수 정의\n",
        "    return sum(filter(lambda x: x%2, data)) # 짝인 것을 거르고 나머지를 더합니다.\n",
        "\n",
        "\n",
        "data = [1,2,3,4,5]\n",
        "solution(data)"
      ],
      "metadata": {
        "colab": {
          "base_uri": "https://localhost:8080/"
        },
        "id": "fNIOwdqqmj_2",
        "outputId": "9e757698-d7a9-43d8-88db-7e39628190d9"
      },
      "execution_count": 10,
      "outputs": [
        {
          "output_type": "execute_result",
          "data": {
            "text/plain": [
              "9"
            ]
          },
          "metadata": {},
          "execution_count": 10
        }
      ]
    },
    {
      "cell_type": "code",
      "source": [
        "def solution(data) :\n",
        "    return sum([ i for i in data if i % 2 !=0 ])\n",
        "\n",
        "solution"
      ],
      "metadata": {
        "colab": {
          "base_uri": "https://localhost:8080/",
          "height": 104
        },
        "id": "myNta1Jnny7N",
        "outputId": "01ad1984-3fe3-4557-d28c-c8f52b5cccbf"
      },
      "execution_count": 14,
      "outputs": [
        {
          "output_type": "execute_result",
          "data": {
            "text/plain": [
              "<function __main__.solution(data)>"
            ],
            "text/html": [
              "<div style=\"max-width:800px; border: 1px solid var(--colab-border-color);\"><style>\n",
              "      pre.function-repr-contents {\n",
              "        overflow-x: auto;\n",
              "        padding: 8px 12px;\n",
              "        max-height: 500px;\n",
              "      }\n",
              "\n",
              "      pre.function-repr-contents.function-repr-contents-collapsed {\n",
              "        cursor: pointer;\n",
              "        max-height: 100px;\n",
              "      }\n",
              "    </style>\n",
              "    <pre style=\"white-space: initial; background:\n",
              "         var(--colab-secondary-surface-color); padding: 8px 12px;\n",
              "         border-bottom: 1px solid var(--colab-border-color);\"><b>solution</b><br/>def solution(data)</pre><pre class=\"function-repr-contents function-repr-contents-collapsed\" style=\"\"><a class=\"filepath\" style=\"display:none\" href=\"#\">/content/&lt;ipython-input-14-bd548dfc38de&gt;</a>&lt;no docstring&gt;</pre></div>"
            ]
          },
          "metadata": {},
          "execution_count": 14
        }
      ]
    },
    {
      "cell_type": "markdown",
      "source": [
        "# 곱하기\n",
        "\n",
        "## 주어진 리스트를 모두 곱하는 solution 함수를 완성해주세요"
      ],
      "metadata": {
        "id": "OkLbumeHqwGl"
      }
    },
    {
      "cell_type": "code",
      "source": [
        "def solution(data) :\n",
        "    numbers = 1\n",
        "    for i in data :\n",
        "        numbers *= i\n",
        "    return numbers\n",
        "data = [1,2,3,4,5]\n",
        "solution(data)"
      ],
      "metadata": {
        "colab": {
          "base_uri": "https://localhost:8080/"
        },
        "id": "d9FQhTIjq7Vu",
        "outputId": "48d82ff9-2213-46c8-e8e3-c7d180e25e57"
      },
      "execution_count": 23,
      "outputs": [
        {
          "output_type": "execute_result",
          "data": {
            "text/plain": [
              "120"
            ]
          },
          "metadata": {},
          "execution_count": 23
        }
      ]
    },
    {
      "cell_type": "code",
      "source": [
        "def solution(data) : # 1 함수 정의\n",
        "    if not data : # 2 빈 리스트 정리\n",
        "        return 0\n",
        "    result = 1 # 초기값 설정\n",
        "\n",
        "    for x in data : # 리스트 순회 및 곱셈 연산\n",
        "        if x == 0 : # x가 0이면 0이 나옴\n",
        "            return 0\n",
        "        result *= x\n",
        "    return result\n",
        "\n",
        "solution(data)"
      ],
      "metadata": {
        "colab": {
          "base_uri": "https://localhost:8080/"
        },
        "id": "iRbgkCxWrSQv",
        "outputId": "b64386ad-ecbe-42b1-b66c-b76084abee9a"
      },
      "execution_count": 24,
      "outputs": [
        {
          "output_type": "execute_result",
          "data": {
            "text/plain": [
              "120"
            ]
          },
          "metadata": {},
          "execution_count": 24
        }
      ]
    },
    {
      "cell_type": "code",
      "source": [
        "def solution(data) :\n",
        "    count = 1\n",
        "    if data == [] :\n",
        "        return 0\n",
        "    else :\n",
        "        for i in data :\n",
        "            count *= i\n",
        "        return count\n",
        "\n",
        "solution(data)"
      ],
      "metadata": {
        "colab": {
          "base_uri": "https://localhost:8080/"
        },
        "id": "ekEaDxJ-sKHv",
        "outputId": "0c842d81-c487-4261-e2e6-eb06aa50ea5b"
      },
      "execution_count": 29,
      "outputs": [
        {
          "output_type": "execute_result",
          "data": {
            "text/plain": [
              "120"
            ]
          },
          "metadata": {},
          "execution_count": 29
        }
      ]
    },
    {
      "cell_type": "code",
      "source": [
        "score = 75\n",
        "\n",
        "if score >= 90:\n",
        "    print(\"A 학점 입니다\")\n",
        "elif score >= 80 :\n",
        "    print(\"B 학점\")\n",
        "else :\n",
        "    print(\"D or F\")"
      ],
      "metadata": {
        "id": "yg1BLWmOsASe"
      },
      "execution_count": null,
      "outputs": []
    },
    {
      "cell_type": "markdown",
      "source": [
        "# 조건 덧셈\n",
        "\n",
        "## 3과 5의 배수를 제외한 모든 수를 더하는 함수를 완성해주세요"
      ],
      "metadata": {
        "id": "dMrfD5ZAuUqv"
      }
    },
    {
      "cell_type": "code",
      "source": [
        "def solution(data) :\n",
        "    return sum(filter(lambda x: x % 3 and x% 5, data))\n",
        "data = [1,2,3,4,5]\n",
        "solution(data)"
      ],
      "metadata": {
        "colab": {
          "base_uri": "https://localhost:8080/"
        },
        "id": "2V9VXAFaucGp",
        "outputId": "46cb0726-8630-47d8-c2f2-d1f6ae557f1c"
      },
      "execution_count": 33,
      "outputs": [
        {
          "output_type": "execute_result",
          "data": {
            "text/plain": [
              "7"
            ]
          },
          "metadata": {},
          "execution_count": 33
        }
      ]
    },
    {
      "cell_type": "code",
      "source": [
        "def solution(data) :\n",
        "    return sum(i for i in data if i % 3 != 0 and i % 5 != 0)\n",
        "solution(data)"
      ],
      "metadata": {
        "colab": {
          "base_uri": "https://localhost:8080/"
        },
        "id": "LL7MsaXXuqBg",
        "outputId": "edc049dc-c220-4dcb-c366-75c6c16cd9bd"
      },
      "execution_count": 34,
      "outputs": [
        {
          "output_type": "execute_result",
          "data": {
            "text/plain": [
              "7"
            ]
          },
          "metadata": {},
          "execution_count": 34
        }
      ]
    },
    {
      "cell_type": "markdown",
      "source": [
        "# 문자열 추출\n",
        "\n",
        "추출해서 사칙연산 하세요"
      ],
      "metadata": {
        "id": "doo93xdvu7fn"
      }
    },
    {
      "cell_type": "code",
      "source": [
        "def solution(data) :\n",
        "    result = 0 # 1 결과값을 저장 할 변수 초기화\n",
        "    for i, s in enumerate(data) : # 2 리스트 순회\n",
        "        number = int(s.split(\" \")[1].replace(\"개\",\"\"))\n",
        "        i += 1 # 4 결과 값 계산\n",
        "        result += i * number\n",
        "    return result\n",
        "\n",
        "data =  ['쿠키 3개','쿠키 2개','쿠키 5개']\n",
        "solution(data)"
      ],
      "metadata": {
        "colab": {
          "base_uri": "https://localhost:8080/"
        },
        "id": "QN6KkK5dvhdB",
        "outputId": "4fb6955d-a549-43a7-cc0e-0f546c5f9ebb"
      },
      "execution_count": 37,
      "outputs": [
        {
          "output_type": "execute_result",
          "data": {
            "text/plain": [
              "22"
            ]
          },
          "metadata": {},
          "execution_count": 37
        }
      ]
    },
    {
      "cell_type": "code",
      "source": [
        "def solution(data) :\n",
        "    cookies = [i.split()[1][:-1] for i in data] # 각 문자열에서 숫자 추출\n",
        "    print(cookies)\n",
        "    result = 0 # 2 결과 값을 저장할 변수 초기화\n",
        "    for order, cookie in enumerate(cookies, 1) : # 3 리스트 순회\n",
        "        result += order * int(cookie) # 4 결과값 계산\n",
        "    return result\n",
        "\n",
        "solution(data)"
      ],
      "metadata": {
        "colab": {
          "base_uri": "https://localhost:8080/"
        },
        "id": "tG9kcUShwLEv",
        "outputId": "07a77650-4ff6-4877-a198-96a8cb7c168c"
      },
      "execution_count": 44,
      "outputs": [
        {
          "output_type": "stream",
          "name": "stdout",
          "text": [
            "['3', '2', '5']\n"
          ]
        },
        {
          "output_type": "execute_result",
          "data": {
            "text/plain": [
              "22"
            ]
          },
          "metadata": {},
          "execution_count": 44
        }
      ]
    },
    {
      "cell_type": "code",
      "source": [
        "sentence = \"Hello, world, How are you?\"\n",
        "words = sentence.split()\n",
        "print(words)"
      ],
      "metadata": {
        "colab": {
          "base_uri": "https://localhost:8080/"
        },
        "id": "KJVRJeBc5g4A",
        "outputId": "4e9eedaa-7059-492f-8f96-473495a856de"
      },
      "execution_count": 49,
      "outputs": [
        {
          "output_type": "stream",
          "name": "stdout",
          "text": [
            "['Hello,', 'world,', 'How', 'are', 'you?']\n"
          ]
        }
      ]
    },
    {
      "cell_type": "code",
      "source": [
        "def solution(data):\n",
        "    result = 0\n",
        "    for i, j in enumerate(data) :\n",
        "        number = int(j.split(\" \")[1].replace(\"개\",\"\"))\n",
        "        i += 1\n",
        "        result += i * number\n",
        "\n",
        "    return result\n",
        "\n",
        "data =  ['쿠키 3개','쿠키 2개','쿠키 5개']\n",
        "solution(data)"
      ],
      "metadata": {
        "colab": {
          "base_uri": "https://localhost:8080/"
        },
        "id": "iP4vrf2X6yKj",
        "outputId": "0be27c50-0fb9-4780-9a78-fcf2bd4ce9a4"
      },
      "execution_count": 61,
      "outputs": [
        {
          "output_type": "execute_result",
          "data": {
            "text/plain": [
              "22"
            ]
          },
          "metadata": {},
          "execution_count": 61
        }
      ]
    },
    {
      "cell_type": "code",
      "source": [],
      "metadata": {
        "id": "lQZo773r7eGi"
      },
      "execution_count": null,
      "outputs": []
    }
  ]
}