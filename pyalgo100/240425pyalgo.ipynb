{
  "nbformat": 4,
  "nbformat_minor": 0,
  "metadata": {
    "colab": {
      "provenance": []
    },
    "kernelspec": {
      "name": "python3",
      "display_name": "Python 3"
    },
    "language_info": {
      "name": "python"
    }
  },
  "cells": [
    {
      "cell_type": "markdown",
      "source": [
        "# 모든 요일의 일정 중에서 최근 3개의 일정을 찾아 반환하세요\n",
        "\n",
        "입력 : {'월': ['2024-01-01', '2024-01-08', '2024-01-15', '2024-01-22'], '화': ['2024-01-02', '2024-01-09', '2024-01-16'], '수': ['2024-01-03', '2024-01-10'], '목': ['2024-01-04', '2024-01-11', '2024-01-18'], '금': ['2024-01-05', '2024-01-12', '2024-01-19', '2024-01-26']}\n",
        "\n",
        "출력 : ['24-01-26 금', '24-01-22 월', '24-01-19 금']\n",
        "\n"
      ],
      "metadata": {
        "id": "UAgRxI7FlakR"
      }
    },
    {
      "cell_type": "code",
      "source": [
        "from datetime import datetime\n",
        "\n",
        "def solution(schedules) :\n",
        "\n",
        "    all_schedules = []\n",
        "    for day, dates in schedules.items() :\n",
        "        for date in dates:\n",
        "            all_schedules.append((date, day))\n",
        "    print(all_schedules)\n",
        "    all_schedules.sort(key=lambda x: x[0], reverse=True)\n",
        "\n",
        "    recent_three = all_schedules[:3]\n",
        "\n",
        "    return [\n",
        "        datetime.strptime(date, \"%Y-%m-%d\").strftime(\"%y-%m-%d\") + \" \" + day\n",
        "        for date, day in recent_three\n",
        "            ]\n",
        "\n",
        "schedules = {'월': ['2024-01-01', '2024-01-08', '2024-01-15', '2024-01-22'], '화': ['2024-01-02', '2024-01-09', '2024-01-16'], '수': ['2024-01-03', '2024-01-10'], '목': ['2024-01-04', '2024-01-11', '2024-01-18'], '금': ['2024-01-05', '2024-01-12', '2024-01-19', '2024-01-26']}\n",
        "solution(schedules)"
      ],
      "metadata": {
        "colab": {
          "base_uri": "https://localhost:8080/"
        },
        "id": "bublEbIBmOpM",
        "outputId": "4368a394-bf0e-424e-c47d-2319072ca67b"
      },
      "execution_count": 3,
      "outputs": [
        {
          "output_type": "stream",
          "name": "stdout",
          "text": [
            "[('2024-01-01', '월'), ('2024-01-08', '월'), ('2024-01-15', '월'), ('2024-01-22', '월'), ('2024-01-02', '화'), ('2024-01-09', '화'), ('2024-01-16', '화'), ('2024-01-03', '수'), ('2024-01-10', '수'), ('2024-01-04', '목'), ('2024-01-11', '목'), ('2024-01-18', '목'), ('2024-01-05', '금'), ('2024-01-12', '금'), ('2024-01-19', '금'), ('2024-01-26', '금')]\n"
          ]
        },
        {
          "output_type": "execute_result",
          "data": {
            "text/plain": [
              "['24=01-26 금', '24=01-22 월', '24=01-19 금']"
            ]
          },
          "metadata": {},
          "execution_count": 3
        }
      ]
    },
    {
      "cell_type": "code",
      "source": [
        "# 리스트 컴프리헨션\n",
        "\n",
        "def solution(data) :\n",
        "\n",
        "    result = [f\"{date[2:]} {day}\" for day, dates in data.items() for date in dates]\n",
        "    return sorted(result, reverse=True)[:3]\n",
        "\n",
        "data = {'월': ['2024-01-01', '2024-01-08', '2024-01-15', '2024-01-22'], '화': ['2024-01-02', '2024-01-09', '2024-01-16'], '수': ['2024-01-03', '2024-01-10'], '목': ['2024-01-04', '2024-01-11', '2024-01-18'], '금': ['2024-01-05', '2024-01-12', '2024-01-19', '2024-01-26']}\n",
        "solution(data)"
      ],
      "metadata": {
        "colab": {
          "base_uri": "https://localhost:8080/"
        },
        "id": "TEhQyM77nNvu",
        "outputId": "74b04e34-303a-45eb-ae1b-539304491353"
      },
      "execution_count": 5,
      "outputs": [
        {
          "output_type": "execute_result",
          "data": {
            "text/plain": [
              "['24-01-26 금', '24-01-22 월', '24-01-19 금']"
            ]
          },
          "metadata": {},
          "execution_count": 5
        }
      ]
    },
    {
      "cell_type": "code",
      "source": [],
      "metadata": {
        "id": "YX_lOGcTsJB2"
      },
      "execution_count": null,
      "outputs": []
    }
  ]
}