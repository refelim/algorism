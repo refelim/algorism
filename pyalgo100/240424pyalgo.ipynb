{
  "nbformat": 4,
  "nbformat_minor": 0,
  "metadata": {
    "colab": {
      "provenance": []
    },
    "kernelspec": {
      "name": "python3",
      "display_name": "Python 3"
    },
    "language_info": {
      "name": "python"
    }
  },
  "cells": [
    {
      "cell_type": "markdown",
      "source": [
        "# 도서관 책 위치 정렬\n",
        "\n",
        "책의 위치 코드와 해당 위치 코드에 대응하는 책의 제목이 딕셔너리 형태로 주어질 때, 위치 코드 순으로 책의 제목을 정렬하는 코드를 작성해주세요.\n",
        "\n",
        "출력 : {'AX21': 'Moby Dick', 'BX32': '1984', 'CX14': 'To Kill a Mockingbird'}\n",
        "\n",
        "위치 : ['Moby Dick', '1984', 'To Kill a Mockingbird']"
      ],
      "metadata": {
        "id": "uYMgLSbJXGoW"
      }
    },
    {
      "cell_type": "code",
      "source": [
        "# keys() 메서드\n",
        "def solution(data) :\n",
        "    sorted_data = sorted(data.keys()) # key값 정렬\n",
        "    return [data[i] for i in sorted_data] # value 반환\n",
        "\n",
        "\n",
        "\n",
        "data = {'AX21': 'Moby Dick', 'BX32': '1984', 'CX14': 'To Kill a Mockingbird'}\n",
        "solution(data)"
      ],
      "metadata": {
        "colab": {
          "base_uri": "https://localhost:8080/"
        },
        "id": "rpcorQlyYlTH",
        "outputId": "faac2bea-d202-4362-9614-b3e0723bdbda"
      },
      "execution_count": null,
      "outputs": [
        {
          "output_type": "execute_result",
          "data": {
            "text/plain": [
              "['Moby Dick', '1984', 'To Kill a Mockingbird']"
            ]
          },
          "metadata": {},
          "execution_count": 3
        }
      ]
    },
    {
      "cell_type": "markdown",
      "source": [
        "key 값 정렬\n",
        "\n",
        "data의 key값을 오름차순으로 정렬합니다. keys()메서드는 딕셔너리의 key를 기준으로 정렬한다는 의미\n",
        "\n",
        "value 반환\n",
        "\n",
        "sorted_data 에서 key에 해당하는 value 값만 뽑아내어 리스트를 생성\n",
        "\n"
      ],
      "metadata": {
        "id": "GMhfeDsyY-H3"
      }
    },
    {
      "cell_type": "code",
      "source": [
        "# items() 메서드\n",
        "\n",
        "def solution(data) :\n",
        "\n",
        "    sorted_data = sorted(data.items(), key = lambda x: x[0]) #  items 정렬\n",
        "\n",
        "    return [i[1] for i in sorted_data]\n",
        "\n",
        "data = {'AX21': 'Moby Dick', 'BX32': '1984', 'CX14': 'To Kill a Mockingbird'}\n",
        "solution(data)"
      ],
      "metadata": {
        "colab": {
          "base_uri": "https://localhost:8080/"
        },
        "id": "eN51IEjMaUdW",
        "outputId": "eb4fc43b-ff3e-4d6f-95ac-e3235fffd0de"
      },
      "execution_count": null,
      "outputs": [
        {
          "output_type": "stream",
          "name": "stdout",
          "text": [
            "[('AX21', 'Moby Dick'), ('BX32', '1984'), ('CX14', 'To Kill a Mockingbird')]\n"
          ]
        },
        {
          "output_type": "execute_result",
          "data": {
            "text/plain": [
              "['Moby Dick', '1984', 'To Kill a Mockingbird']"
            ]
          },
          "metadata": {},
          "execution_count": 8
        }
      ]
    },
    {
      "cell_type": "markdown",
      "source": [
        "items 정렬\n",
        "\n",
        "data를 오름차순으로 정렬합니다. items 메서드는 딕셔너리의 모든 key-value 쌍을 뜻합니다. 정렬 기준은 x[0]으로 key임을 알 수 있습니다"
      ],
      "metadata": {
        "id": "tiy_sVE7a8W_"
      }
    },
    {
      "cell_type": "markdown",
      "source": [
        "# 시간표 정렬\n",
        "\n",
        "시간들을 24시간제로 변환한 뒤, 오름차순으로 정렬하는 코드를 작성해주세요.\n",
        "\n",
        "출력 : ['01:00 PM', '11:30 AM', '12:45 PM', '09:00 AM', '12:00 AM']\n",
        "\n",
        "입력 : ['12:00 AM', '09:00 AM', '11:30 AM', '12:45 PM', '01:00 PM']"
      ],
      "metadata": {
        "id": "ZGMZmj7IcEBA"
      }
    },
    {
      "cell_type": "code",
      "source": [
        "# 문자열 메서드\n",
        "\n",
        "def solution(times) :\n",
        "\n",
        "    def convert_time(time) :\n",
        "        hh, mm, ampm = time.split(\" \")[0].split(\":\") + time.split(\" \")[1:]\n",
        "\n",
        "        if ampm == \"PM\" and hh != \"12\" :\n",
        "            hh = str(int(hh) + 12)\n",
        "        elif ampm == \"AM\" and hh == \"12\" :\n",
        "            hh = \"00\"\n",
        "\n",
        "        return hh + \":\" + mm + \" \" + ampm\n",
        "\n",
        "    return sorted(times, key=convert_time)\n",
        "\n",
        "solution(['01:00 PM', '11:30 AM', '12:45 PM', '09:00 AM', '12:00 AM'])"
      ],
      "metadata": {
        "colab": {
          "base_uri": "https://localhost:8080/"
        },
        "id": "MsTqulJ1dO6v",
        "outputId": "35ed935c-fd47-4490-838a-19da3d7ff94c"
      },
      "execution_count": null,
      "outputs": [
        {
          "output_type": "execute_result",
          "data": {
            "text/plain": [
              "['12:00 AM', '09:00 AM', '11:30 AM', '12:45 PM', '01:00 PM']"
            ]
          },
          "metadata": {},
          "execution_count": 15
        }
      ]
    },
    {
      "cell_type": "markdown",
      "source": [
        "A. return sorted(times, key=convert_time) 때문에, for문을 돌리지 않고\n",
        "\n",
        "convert_time에 times의 요소가 하나하나 들어가서\n",
        "\n",
        "hh, mm, ampm = time.split(\" \")[0].split(\":\") + time.split(\" \")[1:] 이 코드가 성립된다\n",
        "\n",
        "B. 위에서 밑으로 함수 실행이 순서대로 되는게 아니라 부모 함수 먼저 실행 한 후에 진행한다.\n",
        "\n"
      ],
      "metadata": {
        "id": "CfgqbZnEnzNi"
      }
    },
    {
      "cell_type": "code",
      "source": [
        "from datetime import datetime\n",
        "\n",
        "def solution(data) :\n",
        "\n",
        "    converted_times = [(datetime.strptime(time, \"%I:%M %p\").strftime('%H:%M'), time) for time in data]\n",
        "    sorted_times = sorted(converted_times) #4 정렬\n",
        "    result = [time[1] for time in sorted_times]\n",
        "    return result\n",
        "\n",
        "solution(['01:00 PM', '11:30 AM', '12:45 PM', '09:00 AM', '12:00 AM'])"
      ],
      "metadata": {
        "colab": {
          "base_uri": "https://localhost:8080/"
        },
        "id": "D0hWQpgKpTwL",
        "outputId": "1e7d349d-8a20-42f6-bd41-1a7eb0d156c5"
      },
      "execution_count": null,
      "outputs": [
        {
          "output_type": "stream",
          "name": "stdout",
          "text": [
            "[('13:00', '01:00 PM'), ('11:30', '11:30 AM'), ('12:45', '12:45 PM'), ('09:00', '09:00 AM'), ('00:00', '12:00 AM')]\n",
            "[('00:00', '12:00 AM'), ('09:00', '09:00 AM'), ('11:30', '11:30 AM'), ('12:45', '12:45 PM'), ('13:00', '01:00 PM')]\n"
          ]
        },
        {
          "output_type": "execute_result",
          "data": {
            "text/plain": [
              "['12:00 AM', '09:00 AM', '11:30 AM', '12:45 PM', '01:00 PM']"
            ]
          },
          "metadata": {},
          "execution_count": 19
        }
      ]
    },
    {
      "cell_type": "markdown",
      "source": [
        "1. strptime로 문자열을 datetime 객체로 변환\n",
        "\n",
        "2. strftime메서드로 datetime을 문자열로 변환\n",
        "\n",
        "3. converted_times는 (변환된 시간 형식, 원본 형식)\n",
        "\n",
        "4. sorted_times로 변환된 시간 형식으로 오름차순 정렬"
      ],
      "metadata": {
        "id": "5sAipsNlqXMj"
      }
    },
    {
      "cell_type": "markdown",
      "source": [
        "# 휴가 입력\n",
        "\n",
        " 휴가는 '일-월-연', '월/일/연', '연.월.일' 등 다양한 형식으로 뮤라에게 전달되었습니다. 이 날짜들을 '연/월/일' 형식으로 변환한 후, 오름차순으로 정렬하는 코드를 작성해주세요.\n",
        "\n",
        " 입력 : ['20-01-2024', '12/15/2023', '2022.05.30']\n",
        "\n",
        " 출력 : ['2022/05/30', '2023/12/15', '2024/01/20']\n",
        "\n"
      ],
      "metadata": {
        "id": "m9paa8j5tF2U"
      }
    },
    {
      "cell_type": "code",
      "source": [
        "# 문자열 메서드\n",
        "\n",
        "def solution(dates) :\n",
        "    def convert_date(date) :\n",
        "\n",
        "        if \"-\" in date:\n",
        "            day, month, year = date.split(\"-\")\n",
        "        elif \"/\" in date:\n",
        "            month, day, year = date.split(\"/\")\n",
        "        else :\n",
        "            year, month, day = date.split(\".\")\n",
        "\n",
        "        return year, month, day\n",
        "\n",
        "    converted_dates = [convert_date(date) for date in dates]\n",
        "    sorted_dates = sorted(converted_dates)\n",
        "\n",
        "    return [\"/\".join(date) for date in sorted_dates]\n",
        "\n",
        "dates = ['20-01-2024', '12/15/2023', '2022.05.30']\n",
        "solution(dates)"
      ],
      "metadata": {
        "colab": {
          "base_uri": "https://localhost:8080/"
        },
        "id": "YDDQUWpt--R1",
        "outputId": "a6b131cc-84fc-4647-9069-526c63de6b35"
      },
      "execution_count": null,
      "outputs": [
        {
          "output_type": "execute_result",
          "data": {
            "text/plain": [
              "['2022/05/30', '2023/12/15', '2024/01/20']"
            ]
          },
          "metadata": {},
          "execution_count": 26
        }
      ]
    },
    {
      "cell_type": "markdown",
      "source": [
        "1. converted_dates = [convert_date(date) for date in dates] 에서\n",
        "solution에 들고온 dates를 가져와서 convert_date(date)로 넣는다\n",
        "\n",
        "그 이후로 순차적으로 실행한다"
      ],
      "metadata": {
        "id": "6G0MjEOqACnl"
      }
    },
    {
      "cell_type": "code",
      "source": [
        "# 2. datedtime 모듈\n",
        "\n",
        "from datetime import datetime\n",
        "\n",
        "def solution(data) :\n",
        "    result = []\n",
        "    for i in data :\n",
        "        if '-' in i :\n",
        "            date_format = '%d-%m-%Y'\n",
        "        elif '/' in i :\n",
        "            date_format = '%m/%d/%Y'\n",
        "        else :\n",
        "            date_format = '%Y.%m.%d'\n",
        "\n",
        "        date = datetime.strptime(i, date_format)\n",
        "        result.append(date)\n",
        "\n",
        "    result.sort()\n",
        "\n",
        "    return [i.strftime('%Y/%m/%d') for i in result ]\n",
        "\n",
        "data = ['20-01-2024', '12/15/2023', '2022.05.30']\n",
        "\n",
        "solution(data)"
      ],
      "metadata": {
        "colab": {
          "base_uri": "https://localhost:8080/"
        },
        "id": "RU9azd5HCUB-",
        "outputId": "8927f8e4-ed8f-42cc-ef3d-d9375c9b060b"
      },
      "execution_count": null,
      "outputs": [
        {
          "output_type": "stream",
          "name": "stdout",
          "text": [
            "2024-01-20 00:00:00\n",
            "2023-12-15 00:00:00\n",
            "2022-05-30 00:00:00\n"
          ]
        },
        {
          "output_type": "execute_result",
          "data": {
            "text/plain": [
              "['2022/05/30', '2023/12/15', '2024/01/20']"
            ]
          },
          "metadata": {},
          "execution_count": 25
        }
      ]
    },
    {
      "cell_type": "markdown",
      "source": [
        "### Q. 질문\n",
        "\n",
        "    date가\n",
        "\n",
        "    2024-01-20 00:00:00\n",
        "\n",
        "    2023-12-15 00:00:00\n",
        "\n",
        "    2022-05-30 00:00:00 이렇게 나오는데\n",
        "\n",
        "    ##################\n",
        "\n",
        "    2024-01-20 00:00:00\n",
        "\n",
        "    2023/12/15 00:00:00\n",
        "\n",
        "    2022.05.30 00:00:00 나오는게 정상 아닌가요?\n",
        "\n",
        "\n",
        "### A. 네, 맞습니다.\n",
        "\n",
        "    datetime.strptime() 함수를 사용하여 날짜 문자열을 datetime 객체로 변환할 때, 원래의 날짜 형식이 유지되는 것이 아니라 datetime 객체의 기본 표현 형식으로 변환됩니다.\n",
        "\n",
        "    기본적으로 datetime 객체는 YYYY-MM-DD HH:MM:SS 형식으로 표현됩니다.\n",
        "\n",
        "    따라서 date = datetime.strptime(i, date_format)로 변환된 후에는 모든 날짜가 YYYY-MM-DD HH:MM:SS 형식으로 표시되는 것이 정상입니다."
      ],
      "metadata": {
        "id": "h0DUWhrJDOPG"
      }
    },
    {
      "cell_type": "code",
      "source": [],
      "metadata": {
        "id": "7JR63f7-FN6-"
      },
      "execution_count": null,
      "outputs": []
    }
  ]
}