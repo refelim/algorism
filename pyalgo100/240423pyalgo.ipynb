{
  "nbformat": 4,
  "nbformat_minor": 0,
  "metadata": {
    "colab": {
      "provenance": []
    },
    "kernelspec": {
      "name": "python3",
      "display_name": "Python 3"
    },
    "language_info": {
      "name": "python"
    }
  },
  "cells": [
    {
      "cell_type": "markdown",
      "source": [
        "# 게임 벨런스 조절\n",
        "\n",
        "## 모든 능력치의 합이 350이상이 되는 캐릭터의 이름을 출력하는 solution 함수를 출력해주세요\n",
        "\n",
        "출력 : [['Licat', 98, 92, 85, 97], ['Mura', 95, 32, 51, 30], ['Binky', 98, 98, 51, 32]]\n",
        "\n",
        "입력 : ['Licat']"
      ],
      "metadata": {
        "id": "Rjn9GChjlxuh"
      }
    },
    {
      "cell_type": "code",
      "source": [
        "# 리스트 컴프리 헨션\n",
        "\n",
        "def solution(data) :\n",
        "    return sorted([i[0]for i in data if sum(i[1:]) >= 350])\n",
        "\n",
        "data = [['Licat', 98, 92, 85, 97], ['Mura', 95, 32, 51, 30], ['Binky', 98, 98, 51, 32]]\n",
        "solution(data)"
      ],
      "metadata": {
        "colab": {
          "base_uri": "https://localhost:8080/"
        },
        "id": "wwjmdy9Ema3F",
        "outputId": "83321e85-6ce6-457f-852b-e0be599d1ace"
      },
      "execution_count": null,
      "outputs": [
        {
          "output_type": "execute_result",
          "data": {
            "text/plain": [
              "['Licat']"
            ]
          },
          "metadata": {},
          "execution_count": 10
        }
      ]
    },
    {
      "cell_type": "markdown",
      "source": [
        "1. 정렬리스트\n",
        "    이 코드는 입력 데이터에서 능력치 합이 350 이상인 캐릭터의 이름을 찾아서 정렬된 리스트로 반환홥니다.\n",
        "2. 리스트 컴프리헨션\n",
        "    능력치 합이 350 이상인 캐릭터의 이름을 한 번에 추출합니다. 이후에는 결과를 정렬하여 반환하므로 효율적 입니다."
      ],
      "metadata": {
        "id": "OpHOXmh6rP-p"
      }
    },
    {
      "cell_type": "code",
      "source": [
        "# 2 filter() 함수\n",
        "\n",
        "def solution(data) :\n",
        "    filtered_list = list(filter(lambda x: x[1]+x[2]+x[3]+x[4] >= 350, data))\n",
        "\n",
        "    sorted_list =sorted([i[0] for i in filtered_list])\n",
        "    return sorted_list\n",
        "\n",
        "solution(data)"
      ],
      "metadata": {
        "colab": {
          "base_uri": "https://localhost:8080/"
        },
        "id": "hb8TIwc9mu0e",
        "outputId": "0159c3b6-988d-4359-eb9b-9598cff62c07"
      },
      "execution_count": null,
      "outputs": [
        {
          "output_type": "stream",
          "name": "stdout",
          "text": [
            "[['Licat', 98, 92, 85, 97]]\n"
          ]
        },
        {
          "output_type": "execute_result",
          "data": {
            "text/plain": [
              "['Licat']"
            ]
          },
          "metadata": {},
          "execution_count": 13
        }
      ]
    },
    {
      "cell_type": "markdown",
      "source": [
        "# 평균 점수 카운팅\n",
        "\n",
        "평균 점수가 80점 이상인 인원이 얼마나 되는지 카운팅하는 solution함수를 완성해주세요.\n",
        "\n",
        "입력 : [[98, 92, 85], [95, 32, 51], [98, 98, 51]]\n",
        "\n",
        "출력 : 2\n"
      ],
      "metadata": {
        "id": "UxSb9hFDqNQ3"
      }
    },
    {
      "cell_type": "code",
      "source": [
        "# sum()함수\n",
        "def solution(data) :\n",
        "    return sum(1 for row in data if sum(row[:3]) >= 180 )\n",
        "\n",
        "data = [[98, 92, 85], [95, 32, 51], [98, 98, 51]]\n",
        "solution(data)"
      ],
      "metadata": {
        "colab": {
          "base_uri": "https://localhost:8080/"
        },
        "id": "sydpB69TtCsn",
        "outputId": "24ce5c8d-19b5-423f-8ab5-2ba9405da800"
      },
      "execution_count": null,
      "outputs": [
        {
          "output_type": "execute_result",
          "data": {
            "text/plain": [
              "2"
            ]
          },
          "metadata": {},
          "execution_count": 20
        }
      ]
    },
    {
      "cell_type": "code",
      "source": [
        "# map() 함수\n",
        "def solution(data) :\n",
        "    return len(list(filter(lambda x:x >= 240, map(sum,data))))\n",
        "\n",
        "data = [[98, 92, 85], [95, 32, 51], [98, 98, 51]]\n",
        "solution(data)"
      ],
      "metadata": {
        "colab": {
          "base_uri": "https://localhost:8080/"
        },
        "id": "tlPFeDO3vIuQ",
        "outputId": "e69f4778-7d11-41bd-9a46-7174a9f66c40"
      },
      "execution_count": null,
      "outputs": [
        {
          "output_type": "execute_result",
          "data": {
            "text/plain": [
              "2"
            ]
          },
          "metadata": {},
          "execution_count": 24
        }
      ]
    },
    {
      "cell_type": "markdown",
      "source": [
        "# 우편 번호 정렬\n",
        "\n",
        "우편번호 목록이 딕셔너리 형태로 주어질 때 에서 우편번호 오름차순 순서대로 주소를 정렬하는 코드를 작성해주세요.\n",
        "\n",
        "입력 : [['제주시 A동 한라산길 61', '제주시 B동 백록담길 63', '제주시 C동 사라봉길 31'], {'A동': 63007, 'B동': 63010, 'C동': 63002}]\n",
        "\n",
        "출력 : ['제주시 C동 사라봉길 31', '제주시 A동 한라산길 61', '제주시 B동 백록담길 63']\n",
        "\n",
        "\n"
      ],
      "metadata": {
        "id": "mUC3En5Wvj8_"
      }
    },
    {
      "cell_type": "code",
      "source": [
        "# split 함수\n",
        "\n",
        "def solution(data) :\n",
        "    return sorted(data[0], key = lambda x : data[1][x.split()[1]])\n"
      ],
      "metadata": {
        "id": "w1iNA32XeIJ0"
      },
      "execution_count": null,
      "outputs": []
    },
    {
      "cell_type": "code",
      "source": [
        "# enumerate 함수\n",
        "\n",
        "def solution(data) :\n",
        "    key2idx = {idx:val for idx, val in enumerate(data[1].values())}\n",
        "    rearranged = sorted(key2idx.items(), key=lambda x : x[1])\n",
        "    res = [data[0][i] for i, _ in rearranged]\n",
        "    return res\n",
        "\n",
        "\n",
        "data = [['제주시 A동 한라산길 61', '제주시 B동 백록담길 63', '제주시 C동 사라봉길 31'], {'A동': 63007, 'B동': 63010, 'C동': 63002}]\n",
        "solution(data)"
      ],
      "metadata": {
        "colab": {
          "base_uri": "https://localhost:8080/"
        },
        "id": "a9ySvNuhpC9G",
        "outputId": "8a624bc3-a4dc-4e6a-9691-90058d0905a0"
      },
      "execution_count": null,
      "outputs": [
        {
          "output_type": "stream",
          "name": "stdout",
          "text": [
            "{0: 63007, 1: 63010, 2: 63002}\n",
            "[(2, 63002), (0, 63007), (1, 63010)]\n"
          ]
        },
        {
          "output_type": "execute_result",
          "data": {
            "text/plain": [
              "['제주시 C동 사라봉길 31', '제주시 A동 한라산길 61', '제주시 B동 백록담길 63']"
            ]
          },
          "metadata": {},
          "execution_count": 7
        }
      ]
    },
    {
      "cell_type": "markdown",
      "source": [
        "# 도서관 책 연도별 정렬\n",
        "\n",
        "라이캣을 도와 주어진 책들을 발행 연도가 오래된 순서대로 정렬하는 코드를 작성해주세요. 발행 연도가 같은 경우에는 제목의 사전순으로 정렬하세요.\n",
        "\n",
        "입력 : [['Moby Dick', 'To Kill a Mockingbird', '1984'], {'Moby Dick': 1851, 'To Kill a Mockingbird': 1960, '1984': 1949}]\n",
        "\n",
        "출력 : ['Moby Dick', '1984', 'To Kill a Mockingbird']\n",
        "\n"
      ],
      "metadata": {
        "id": "HnLjnBH8pVPW"
      }
    },
    {
      "cell_type": "code",
      "source": [
        "def solution(data) :\n",
        "    return sorted(data[0], key = lambda x : data[1][x])\n",
        "\n",
        "data =  [['Moby Dick', 'To Kill a Mockingbird', '1984'], {'Moby Dick': 1851, 'To Kill a Mockingbird': 1960, '1984': 1949}]\n",
        "solution(data)"
      ],
      "metadata": {
        "colab": {
          "base_uri": "https://localhost:8080/"
        },
        "id": "Y7Zc1jTGzMxQ",
        "outputId": "7927a56f-c7cb-47bb-e65c-1ae6b44c52ef"
      },
      "execution_count": null,
      "outputs": [
        {
          "output_type": "stream",
          "name": "stdout",
          "text": [
            "['Moby Dick', 'To Kill a Mockingbird', '1984']\n"
          ]
        },
        {
          "output_type": "execute_result",
          "data": {
            "text/plain": [
              "['Moby Dick', '1984', 'To Kill a Mockingbird']"
            ]
          },
          "metadata": {},
          "execution_count": 13
        }
      ]
    },
    {
      "cell_type": "code",
      "source": [
        "# key 파라미터 정렬\n",
        "def solution(data) :\n",
        "    books, publish_years = data\n",
        "    return sorted(books, key = lambda book : (publish_years[book], book))\n",
        "\n",
        "data =  [['Moby Dick', 'To Kill a Mockingbird', '1984'], {'Moby Dick': 1851, 'To Kill a Mockingbird': 1960, '1984': 1949}]\n",
        "solution(data)\n",
        "\n"
      ],
      "metadata": {
        "colab": {
          "base_uri": "https://localhost:8080/"
        },
        "id": "pOlaIRO2zyEo",
        "outputId": "a0505e3f-2fb2-4221-f61b-7b8ca4165a14"
      },
      "execution_count": null,
      "outputs": [
        {
          "output_type": "execute_result",
          "data": {
            "text/plain": [
              "['Moby Dick', '1984', 'To Kill a Mockingbird']"
            ]
          },
          "metadata": {},
          "execution_count": 18
        }
      ]
    },
    {
      "cell_type": "markdown",
      "source": [
        "(publish_years[book], book)는 첫 번째로 출판연도로 기준을 하고, 두 번째로는 출판연도가 같다면 출판연도 다음 책으로 기준을 삼는다."
      ],
      "metadata": {
        "id": "aPl-_wk20lDI"
      }
    },
    {
      "cell_type": "code",
      "source": [
        "# get 메서드\n",
        "\n",
        "def solution(data) :\n",
        "    return sorted(data[0], key = lambda x : (data[1].get(x), x))\n",
        "\n",
        "data =  [['Moby Dick', 'To Kill a Mockingbird', '1984'], {'Moby Dick': 1851, 'To Kill a Mockingbird': 1960, '1984': 1949}]\n",
        "solution(data)\n"
      ],
      "metadata": {
        "colab": {
          "base_uri": "https://localhost:8080/"
        },
        "id": "pgX_fyDC3ONQ",
        "outputId": "4408acc5-4388-44fb-ba19-5724e042fdac"
      },
      "execution_count": null,
      "outputs": [
        {
          "output_type": "execute_result",
          "data": {
            "text/plain": [
              "['Moby Dick', '1984', 'To Kill a Mockingbird']"
            ]
          },
          "metadata": {},
          "execution_count": 19
        }
      ]
    },
    {
      "cell_type": "code",
      "source": [],
      "metadata": {
        "id": "UrOe_ZmQ3sHI"
      },
      "execution_count": null,
      "outputs": []
    }
  ]
}