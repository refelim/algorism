{
  "nbformat": 4,
  "nbformat_minor": 0,
  "metadata": {
    "colab": {
      "provenance": []
    },
    "kernelspec": {
      "name": "python3",
      "display_name": "Python 3"
    },
    "language_info": {
      "name": "python"
    }
  },
  "cells": [
    {
      "cell_type": "markdown",
      "source": [
        "이 리스트에 있는 각 항목의 데이터 타입을 확인하고, 해당 타입의 이름을 문자열로 반환하는 코드를 작성해주세요.\n",
        "\n",
        "\n",
        "입력 (데이터 리스트) [123, 4.56, 'hello', [1, 2, 3], (4, 5), {'a': 1, 'b': 2}]\n",
        "\n",
        "\n",
        "출력 (타입 이름 리스트)\t['int', 'float', 'str', 'list', 'tuple', 'dict']"
      ],
      "metadata": {
        "id": "lzeA4vX_IKMV"
      }
    },
    {
      "cell_type": "code",
      "source": [
        "# 데이터 타입 확인과 타입 이름 반환\n",
        "\n",
        "def solution(data) :\n",
        "    return [type(item).__name__for item in data]"
      ],
      "metadata": {
        "id": "4kHeJEt-IoCP"
      },
      "execution_count": null,
      "outputs": []
    },
    {
      "cell_type": "code",
      "source": [
        "# 리스트 컴프리헨션 사용\n",
        "\n",
        "def solution(data) :\n",
        "    return [str(type(idx)).split(\"'\")[1] for idx in data]\n",
        "\n",
        "# 결과 타입 문자열에서 타입 이름만 추출합니다. 타입 문자열은 <class 'int'>, <class 'str'>등의 형태로 반환되므로, '로 split 하여 타입 이름만 가져옵니다\n",
        "\n",
        "solution([123, 4.56, 'hello', [1, 2, 3], (4, 5), {'a': 1, 'b': 2}])"
      ],
      "metadata": {
        "id": "99HqL7r4IUQR",
        "colab": {
          "base_uri": "https://localhost:8080/"
        },
        "outputId": "1118ee49-a493-473f-fc94-611a9ab9aaae"
      },
      "execution_count": 1,
      "outputs": [
        {
          "output_type": "execute_result",
          "data": {
            "text/plain": [
              "['int', 'float', 'str', 'list', 'tuple', 'dict']"
            ]
          },
          "metadata": {},
          "execution_count": 1
        }
      ]
    },
    {
      "cell_type": "code",
      "source": [],
      "metadata": {
        "id": "XjbOpRCTLEd4"
      },
      "execution_count": null,
      "outputs": []
    }
  ]
}