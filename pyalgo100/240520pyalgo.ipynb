{
  "nbformat": 4,
  "nbformat_minor": 0,
  "metadata": {
    "colab": {
      "provenance": []
    },
    "kernelspec": {
      "name": "python3",
      "display_name": "Python 3"
    },
    "language_info": {
      "name": "python"
    }
  },
  "cells": [
    {
      "cell_type": "markdown",
      "source": [
        "# 가장 높은 온도를 기록한 상위 3일을 찾아 'YY-MM-D:온도' 형식으로 반환하는 코드를 작성해주세요\n",
        "\n",
        "입력 : {'2024-01-01': 15, '2024-01-02': 17, '2024-01-03': 16, '2024-01-04': 20, '2024-01-05': 19, '2024-01-06': 21, '2024-01-07': 18}\n",
        "\n",
        "출력 : ['24-01-06: 21', '24-01-04: 20', '24-01-05: 19']\n",
        "\n"
      ],
      "metadata": {
        "id": "7932VJSjdD7S"
      }
    },
    {
      "cell_type": "code",
      "source": [
        "# lambda 함수\n",
        "\n",
        "def solution(temperature_data) :\n",
        "    temp_list = [(temp, date) for date, temp in temperature_data.items()]\n",
        "    temp_list.sort(key = lambda x : (-x[0], x[1]))\n",
        "    top_three = temp_list[:3]\n",
        "    return [f\"{date[2:]} : {temp}\" for temp, date in top_three]\n",
        "\n",
        "temperature_data = {'2024-01-01': 15, '2024-01-02': 17, '2024-01-03': 16, '2024-01-04': 20, '2024-01-05': 19, '2024-01-06': 21, '2024-01-07': 18}\n",
        "solution(temperature_data)"
      ],
      "metadata": {
        "colab": {
          "base_uri": "https://localhost:8080/"
        },
        "id": "kyOjNTPJd0-B",
        "outputId": "b527cce7-1ce4-4716-dd05-40903b12423d"
      },
      "execution_count": 4,
      "outputs": [
        {
          "output_type": "execute_result",
          "data": {
            "text/plain": [
              "['24-01-06 : 21', '24-01-04 : 20', '24-01-05 : 19']"
            ]
          },
          "metadata": {},
          "execution_count": 4
        }
      ]
    },
    {
      "cell_type": "code",
      "source": [
        "# 조건문\n",
        "\n",
        "def solution(data) :\n",
        "    if 7 <= len(data) :\n",
        "        sorted_tmp = sorted(data.items(), key = lambda x: x[1], reverse = True)\n",
        "        top3_list = [f'{day}: {tmp}' for day, tmp in sorted_tmp][:3]\n",
        "\n",
        "        changed_str = []\n",
        "        for x in top3_list  :\n",
        "            x = x[2:]\n",
        "            changed_str.append(x)\n",
        "        return changed_str\n",
        "    else :\n",
        "        msg = '잘못 입력하셨습니다. 기온 데이터를 최소 7개에서 30개까지 입력 바랍니다.'\n",
        "        return msg\n",
        "\n",
        "data = {'2024-01-01': 15, '2024-01-02': 17, '2024-01-03': 16, '2024-01-04': 20, '2024-01-05': 19, '2024-01-06': 21, '2024-01-07': 18}\n",
        "solution(data)\n",
        ""
      ],
      "metadata": {
        "colab": {
          "base_uri": "https://localhost:8080/"
        },
        "id": "dxUFGGdeeiii",
        "outputId": "8dc3f927-74f9-4423-9015-ef389da78e52"
      },
      "execution_count": 10,
      "outputs": [
        {
          "output_type": "execute_result",
          "data": {
            "text/plain": [
              "['24-01-06: 21', '24-01-04: 20', '24-01-05: 19']"
            ]
          },
          "metadata": {},
          "execution_count": 10
        }
      ]
    },
    {
      "cell_type": "code",
      "source": [],
      "metadata": {
        "id": "q1JPma1VfAmT"
      },
      "execution_count": null,
      "outputs": []
    }
  ]
}