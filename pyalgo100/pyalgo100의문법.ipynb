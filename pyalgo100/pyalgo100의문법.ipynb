{
  "nbformat": 4,
  "nbformat_minor": 0,
  "metadata": {
    "colab": {
      "provenance": [],
      "collapsed_sections": [
        "m3qO_qp7fB1z",
        "TXyALQDImyUx",
        "hOH0Lb3tneaD"
      ]
    },
    "kernelspec": {
      "name": "python3",
      "display_name": "Python 3"
    },
    "language_info": {
      "name": "python"
    }
  },
  "cells": [
    {
      "cell_type": "markdown",
      "source": [
        "# 제너레이터(generater) 표현식"
      ],
      "metadata": {
        "id": "m3qO_qp7fB1z"
      }
    },
    {
      "cell_type": "markdown",
      "source": [
        "제너레이터는 이터레이터의 일종으로, 값을 한 번에 하나씩 생성하고 반환하는 객체입니다.\n",
        "\n",
        "제너레이터 표현식은 리스트 컴프리헨션(List Comprehension)과 유사한 문법을 가지고 있지만, 대괄호([]) 대신 소괄호(())를 사용합니다. 제너레이터 표현식은 메모리 효율적인 방식으로 값을 생성하므로, 큰 데이터 세트를 처리할 때 유용합니다.\n",
        "\n",
        "***제너레이터 표현식은 필요할 때마다 값을 생성하므로 메모리 사용량을 줄일 수 있습니다. 특히 대량의 데이터를 처리하거나 무한한 시퀀스를 생성할 때 유용합니다.***"
      ],
      "metadata": {
        "id": "Tusv6W1_fPZK"
      }
    },
    {
      "cell_type": "code",
      "source": [
        "generater_expression = (x ** 2 for x in range(5))\n",
        "print(list(generater_expression))"
      ],
      "metadata": {
        "colab": {
          "base_uri": "https://localhost:8080/"
        },
        "id": "z5ZdAl8LfXkq",
        "outputId": "03a03552-19ea-4baf-e195-076fd49e1522"
      },
      "execution_count": null,
      "outputs": [
        {
          "output_type": "stream",
          "name": "stdout",
          "text": [
            "[0, 1, 4, 9, 16]\n"
          ]
        }
      ]
    },
    {
      "cell_type": "markdown",
      "source": [
        "제너레이터 표현식은 함수의 인자로 직접 전달할 수도 있습니다. 예를 들어, sum() 함수와 함께 사용하여 제너레이터 표현식의 값들의 합을 계산할 수 있습니다"
      ],
      "metadata": {
        "id": "ue0xTp-0gTQ6"
      }
    },
    {
      "cell_type": "code",
      "source": [
        "total = sum(x ** 2 for x in range(1, 6))\n",
        "print(total)  # 출력 결과: 55"
      ],
      "metadata": {
        "colab": {
          "base_uri": "https://localhost:8080/"
        },
        "id": "ft1ZOnuYg2Tz",
        "outputId": "df86ad64-d4d4-42d0-cdd2-618b31c0f1b7"
      },
      "execution_count": null,
      "outputs": [
        {
          "output_type": "stream",
          "name": "stdout",
          "text": [
            "55\n"
          ]
        }
      ]
    },
    {
      "cell_type": "markdown",
      "source": [
        "# 절댓 값 abs()함수\n",
        "\n",
        "차이의 절댓값은 두 값 사이의 거리를 나타내는 것으로, 음수의 경우에도 항상 양수로 반환 됩니다. 예를 들어, 5와 8사이의 차이는 **-3이지만**, 그 절댓값은 3입니다. 프로그래밍에서는 abs() 함수를 사용하여 두 값의 차이의 절댓값을 쉽게 계산할 수 있습니다. 이 연산 데이터 처리, 거리 계산 등 다양항 상황에서 유용하게 활용 됩니다. 예를 들어, 두 점 간의 거리를 계산 할 때나 숫자의 차이를 비교할 때 사용됩니다.\n",
        "\n"
      ],
      "metadata": {
        "id": "TXyALQDImyUx"
      }
    },
    {
      "cell_type": "code",
      "source": [
        "num1 = 5\n",
        "num2 = 8\n",
        "\n",
        "difference = abs(num1 - num2)\n",
        "print(difference)"
      ],
      "metadata": {
        "colab": {
          "base_uri": "https://localhost:8080/"
        },
        "id": "m7tWvUYknWar",
        "outputId": "8e24be33-cc70-4d0f-d1f1-1b9f7852b06d"
      },
      "execution_count": null,
      "outputs": [
        {
          "output_type": "stream",
          "name": "stdout",
          "text": [
            "3\n"
          ]
        }
      ]
    },
    {
      "cell_type": "markdown",
      "source": [
        "# min 함수\n",
        "\n",
        "min(iterable, *[, default=obj, key=func])\n",
        "\n",
        "개념 : min() 함수는 주어진 반복 가능한(iterable)객체에서 가장 작은 값을 반환합니다. 이 함수는 문자열, 리스트 등과 같은 여러 종류의 객체에서 사용될 수 있습니다.\n",
        "\n",
        "기본적으로는 숫자나 문자열의 크기를 기준으로 가장 작은 값을 찾습니다. 선택적으로 key 매개변수를 통해 비교에 사용할 함수를 지정할 수 있습니다. 이 함수는 각 요소에 적용되어 비교 기준을 변경할 수 있습니다.\n",
        "\n"
      ],
      "metadata": {
        "id": "hOH0Lb3tneaD"
      }
    },
    {
      "cell_type": "code",
      "source": [
        "numbers = [5,2,1,3,54]\n",
        "min_numbers = min(numbers)\n",
        "print(min_numbers)"
      ],
      "metadata": {
        "colab": {
          "base_uri": "https://localhost:8080/"
        },
        "id": "HdskfVt5qjEl",
        "outputId": "9ebb63ea-63b3-4d2e-c6f7-e94c3fb7b63c"
      },
      "execution_count": null,
      "outputs": [
        {
          "output_type": "stream",
          "name": "stdout",
          "text": [
            "1\n"
          ]
        }
      ]
    },
    {
      "cell_type": "markdown",
      "source": [
        "# max 함수\n",
        "\n",
        "max(iterable, *[, default=obj, key=func])\n",
        "\n",
        "주어진 이터러블(시퀀스)에서 가장 큰 값을 반환합니다. 이 함수는 선택적으로 기본값(default)과 비교를 위한 키 함수를 받는다\n",
        "\n"
      ],
      "metadata": {
        "id": "chPK3-MXqq7E"
      }
    },
    {
      "cell_type": "code",
      "source": [
        "numbers = [1,2,3,4,5]\n",
        "\n",
        "max_value = max(numbers)\n",
        "print(max_value)"
      ],
      "metadata": {
        "colab": {
          "base_uri": "https://localhost:8080/"
        },
        "id": "SyhPoixPIQgm",
        "outputId": "75a81d6a-db3d-43a1-f00c-4229700c1973"
      },
      "execution_count": null,
      "outputs": [
        {
          "output_type": "stream",
          "name": "stdout",
          "text": [
            "5\n"
          ]
        }
      ]
    },
    {
      "cell_type": "markdown",
      "source": [
        "# 리스트 컴프리헨션\n",
        "\n",
        "리스트 컴프리헨션은 파이썬에서 리스트를 간결하게 생성하는 방법 중 하나입니다. 이는 for 루프를 사용하여 리스트를 생성하는 것과 유사하지만 더 간단하고 가독성이 좋습니다.\n"
      ],
      "metadata": {
        "id": "DP25gipHIu42"
      }
    },
    {
      "cell_type": "code",
      "source": [
        "numbers = [x for x in range(10) if x % 2 == 0 ]\n",
        "print(numbers)"
      ],
      "metadata": {
        "colab": {
          "base_uri": "https://localhost:8080/"
        },
        "id": "vGMNT0Z9q_ym",
        "outputId": "2492e91d-48c1-4d1c-d221-90dcbe9fcec4"
      },
      "execution_count": null,
      "outputs": [
        {
          "output_type": "stream",
          "name": "stdout",
          "text": [
            "[0, 2, 4, 6, 8]\n"
          ]
        }
      ]
    },
    {
      "cell_type": "markdown",
      "source": [
        "# filter 함수\n",
        "\n",
        "filter(function, iterable)\n",
        "\n",
        "filter()함수는 주어진 이터러블(시퀀스)에서 조건을 만족하는 요소만 걸러내어 새로운 이터러블 반환합니다. 주어진 함수(function)가 참을 반환하는 요소만 포함 됩니다."
      ],
      "metadata": {
        "id": "ShqmSYFyrGIX"
      }
    },
    {
      "cell_type": "code",
      "source": [
        "# filter 함수를 사용하여 짝수만 필터링\n",
        "\n",
        "numbers = [1,2,3,4,5,6,7,8,9,10]\n",
        "even_numbers = list(filter(lambda x : x % 2 == 0, numbers))\n",
        "print(even_numbers)"
      ],
      "metadata": {
        "colab": {
          "base_uri": "https://localhost:8080/"
        },
        "id": "qPfZv7eFsJwH",
        "outputId": "7dda52c8-ca25-45d2-9578-7777ba526a2e"
      },
      "execution_count": null,
      "outputs": [
        {
          "output_type": "stream",
          "name": "stdout",
          "text": [
            "[2, 4, 6, 8, 10]\n"
          ]
        }
      ]
    },
    {
      "cell_type": "markdown",
      "source": [
        "# map 함수\n",
        "\n",
        "map(function, iterable, ...)\n",
        "\n",
        "map() 함수는 주어진 함수(function)를 시퀀스나 이터러블의 모든 요소에 적용하여 새로운 이터러블을 반환합니다. 즉, 각 요소에 함수를 적용한 결과를 담은 이터러블을 생성합니다.\n",
        "\n"
      ],
      "metadata": {
        "id": "jKwNoC8OskMw"
      }
    },
    {
      "cell_type": "code",
      "source": [
        "numbers = [1,2,3,4,5]\n",
        "squared_numbers = map(lambda x : x ** 2 , numbers)\n",
        "print(list(squared_numbers))"
      ],
      "metadata": {
        "colab": {
          "base_uri": "https://localhost:8080/"
        },
        "id": "TcBuuCG4uaao",
        "outputId": "5051a0ba-3666-4714-8954-a12c917656f9"
      },
      "execution_count": null,
      "outputs": [
        {
          "output_type": "stream",
          "name": "stdout",
          "text": [
            "[1, 4, 9, 16, 25]\n"
          ]
        }
      ]
    },
    {
      "cell_type": "markdown",
      "source": [
        "# split함수\n",
        "\n",
        "str.split(sep=None, maxsplit=1)\n",
        "\n",
        "split()함수는 문자열을 지정된 구분자(sep)를 기준으로 나누어 리스트로 반환합니다. 구분자를 지정하지 않으면 공백을 기준으로 문자열을 나눕니다.\n",
        "\n"
      ],
      "metadata": {
        "id": "m03b_V8du-2A"
      }
    },
    {
      "cell_type": "code",
      "source": [
        "text = \"apple,banana,orange\"\n",
        "fruits = text.split(',')\n",
        "print(fruits)"
      ],
      "metadata": {
        "colab": {
          "base_uri": "https://localhost:8080/"
        },
        "id": "jIhAxgzHmKOd",
        "outputId": "1650d339-6f76-43d6-d71c-dad8ab0fbbe3"
      },
      "execution_count": null,
      "outputs": [
        {
          "output_type": "stream",
          "name": "stdout",
          "text": [
            "['apple', 'banana', 'orange']\n"
          ]
        }
      ]
    },
    {
      "cell_type": "markdown",
      "source": [
        "# 왜 _를 쓰는거야?\n",
        "\n",
        "언더스코어 _는 파이썬에서 일반적으로 사용되지 않는 값이나 변수를 나타내는 관례입니다. 이는 \"던더(dunder)\" 또는 \"플레이스홀더(placeholder)\" 변수라고도 불립니다.\n",
        "파이썬에서는 변수를 할당할 때 모든 값을 사용해야 합니다. 그러나 때로는 어떤 값이 필요하지 않거나 무시하고 싶을 때가 있습니다. 이럴 때 _를 사용하여 해당 값을 무시할 수 있습니다.\n",
        "\n"
      ],
      "metadata": {
        "id": "S-dB1M_omTTt"
      }
    },
    {
      "cell_type": "code",
      "source": [
        "res = [data[0][i] for i, _ in rearranged] # 던더(_) 사용 전\n",
        "res = [data[0][i] for i in [x[0] for x in rearranged]] # 던더(_) 사용 후\n"
      ],
      "metadata": {
        "id": "qxGT4cwbvJ-H"
      },
      "execution_count": null,
      "outputs": []
    },
    {
      "cell_type": "markdown",
      "source": [
        "# enumerate 함수\n",
        "\n",
        "enumerate(iterable, start=0)\n",
        "\n",
        "enumerate()함수는 주어진 이터러블의 각 요소에 대해 인덱스와 값을 반환하는 이터레이터를 생성합니다. 이때, 인덱스는 기본적으로 0부터 시작하며, 선택적으로 시작값(start)을 지정할 수 있습니다.\n",
        "\n"
      ],
      "metadata": {
        "id": "cOo-p-ijwjYX"
      }
    },
    {
      "cell_type": "code",
      "source": [
        "# enumerate 함수를 사용하여 각 요소의 인덱스와 값을 출력하기\n",
        "fruit = ['apple', 'banana', 'orange']\n",
        "for index, fruit in enumerate(fruits) :\n",
        "    print(index, fruit)\n"
      ],
      "metadata": {
        "colab": {
          "base_uri": "https://localhost:8080/"
        },
        "id": "2iQHHZBHw6oA",
        "outputId": "7ef13433-f393-427e-8d50-14b460432d08"
      },
      "execution_count": null,
      "outputs": [
        {
          "output_type": "stream",
          "name": "stdout",
          "text": [
            "0 apple\n",
            "1 banana\n",
            "2 orange\n"
          ]
        }
      ]
    },
    {
      "cell_type": "markdown",
      "source": [
        "# 언패킹\n",
        "\n",
        "변수 1, 변수 2 = 원본 데이터(길이는 2로 가정)\n",
        "\n",
        "시퀀스 객체(리스트, 튜플, 문자열 등)의 요소를 개별 변수로 할당하는 과정을 말합니다"
      ],
      "metadata": {
        "id": "2UG7NuOJxLew"
      }
    },
    {
      "cell_type": "code",
      "source": [
        "# 언패킹 사용\n",
        "numbers = [1,2,3]\n",
        "a, b, c = numbers\n",
        "print(a)\n",
        "print(b)\n",
        "print(c)\n"
      ],
      "metadata": {
        "id": "s3zajDQUxYrn"
      },
      "execution_count": null,
      "outputs": []
    },
    {
      "cell_type": "markdown",
      "source": [
        "# get 메서드\n",
        "\n",
        "딕셔너리.get(key, default_value)\n",
        "\n",
        "특정 키에 대한 값을 반환하는 메서드입니다. 값이 존재하지 않으면 default_value 값을 반환합니다. 만약, default_value를 생략한다면 None이 반환됩니다.\n",
        "\n"
      ],
      "metadata": {
        "id": "wOJpAgxD4UPT"
      }
    },
    {
      "cell_type": "code",
      "source": [
        "dictonary = {'apple' : 2 , 'banana' : 3, 'orange' : 5}\n",
        "\n",
        "print(dictonary.get('apple'))\n",
        "print(dictonary.get('grape'))\n",
        "print(dictonary.get('grape',0))\n"
      ],
      "metadata": {
        "colab": {
          "base_uri": "https://localhost:8080/"
        },
        "id": "iI6FbI9b4nR5",
        "outputId": "3a4f39ca-4f2c-4e2a-adfd-83236c7f0e1c"
      },
      "execution_count": null,
      "outputs": [
        {
          "output_type": "stream",
          "name": "stdout",
          "text": [
            "2\n",
            "None\n",
            "0\n",
            "{'apple': 2, 'banana': 3, 'orange': 5}\n"
          ]
        }
      ]
    },
    {
      "cell_type": "markdown",
      "source": [
        "# key() 메서드\n",
        "\n",
        "딕셔너리.keys()\n",
        "\n",
        "딕셔너리의 모든 key를 반환하는 메서드 입니다\n",
        "\n"
      ],
      "metadata": {
        "id": "dkyuid6R447R"
      }
    },
    {
      "cell_type": "code",
      "source": [
        "my_dict = {'apple' : 2, 'banana' : 3, 'orange' : 5}\n",
        "keys = my_dict.keys()\n",
        "print(keys)"
      ],
      "metadata": {
        "colab": {
          "base_uri": "https://localhost:8080/"
        },
        "id": "cDuOB2SwcQ2I",
        "outputId": "babcb6c9-d3b3-481f-f807-41f055b4c886"
      },
      "execution_count": null,
      "outputs": [
        {
          "output_type": "stream",
          "name": "stdout",
          "text": [
            "dict_keys(['apple', 'banana', 'orange'])\n"
          ]
        }
      ]
    },
    {
      "cell_type": "markdown",
      "source": [
        "# items() 메서드\n",
        "\n",
        "딕셔너리.keys()\n",
        "\n",
        "딕셔너리의 모든 key를 반환하는 메서드 입니다"
      ],
      "metadata": {
        "id": "T4bqxs3scetn"
      }
    },
    {
      "cell_type": "code",
      "source": [
        "my_dict = {'apple' : 2, 'banana' : 3, 'orange' : 5}\n",
        "items = my_dict.items()\n",
        "print(items)"
      ],
      "metadata": {
        "colab": {
          "base_uri": "https://localhost:8080/"
        },
        "id": "QZg4TLlUcrE2",
        "outputId": "9da5b139-c307-43d7-e902-624c1c777f41"
      },
      "execution_count": null,
      "outputs": [
        {
          "output_type": "stream",
          "name": "stdout",
          "text": [
            "dict_items([('apple', 2), ('banana', 3), ('orange', 5)])\n"
          ]
        }
      ]
    },
    {
      "cell_type": "markdown",
      "source": [
        "# datetime\n",
        "\n",
        "datetime.datetime\n",
        "\n",
        "파이썬에서 날짜와 시간을 처리하는 데 사용되는 내장 모듈\n",
        "\n",
        "## strftime\n",
        "\n",
        "datetime.strftime\n",
        "\n",
        "datetime 객체를 문자열로 변환할 때 사용합니다.\n",
        "\n",
        "\n",
        "## strptime\n",
        "\n",
        "datetime.strptime\n",
        "\n",
        "datetime 객체를 문자열로 변환할 때 사용합니다.\n",
        "\n"
      ],
      "metadata": {
        "id": "vLAsmP9icwg_"
      }
    },
    {
      "cell_type": "code",
      "source": [
        "from datetime import datetime\n",
        "\n",
        "# strftime 정의\n",
        "datetime.strftime(format)\n",
        "\n",
        "# strptime 정의\n",
        "datetime.strptime(date_string, format)\n",
        "\n",
        "# format 형식 지시자\n",
        "%Y 네 자리의 연도 (예: 2024)\n",
        "%m 두 자리의 월 (예: 01)\n",
        "%d 두 자리의 일 (예: 23)\n",
        "%H 두 자리의 시간 (24시간 형식) (예: 14)\n",
        "%I 두 자리의 시간 (12시간 형식)\n",
        "%p는 오전/오후를 나타내는 형식 지시자로, AM 또는 PM으로 표현됩니다. %I 와 같이 사용합니다.\n",
        "%M 두 자리의 분 (예: 34)\n",
        "%S 두 자리의 초 (예: 56)\n"
      ],
      "metadata": {
        "colab": {
          "base_uri": "https://localhost:8080/",
          "height": 226
        },
        "id": "gOlYjI_nwFF7",
        "outputId": "e6cca178-b3ea-42e3-9736-7c33437faac8"
      },
      "execution_count": null,
      "outputs": [
        {
          "output_type": "error",
          "ename": "TypeError",
          "evalue": "descriptor 'strftime' for 'datetime.date' objects doesn't apply to a 'builtin_function_or_method' object",
          "traceback": [
            "\u001b[0;31m---------------------------------------------------------------------------\u001b[0m",
            "\u001b[0;31mTypeError\u001b[0m                                 Traceback (most recent call last)",
            "\u001b[0;32m<ipython-input-8-8bd7d38a5933>\u001b[0m in \u001b[0;36m<cell line: 4>\u001b[0;34m()\u001b[0m\n\u001b[1;32m      2\u001b[0m \u001b[0;34m\u001b[0m\u001b[0m\n\u001b[1;32m      3\u001b[0m \u001b[0;31m# strftime 정의\u001b[0m\u001b[0;34m\u001b[0m\u001b[0;34m\u001b[0m\u001b[0m\n\u001b[0;32m----> 4\u001b[0;31m \u001b[0mdatetime\u001b[0m\u001b[0;34m.\u001b[0m\u001b[0mstrftime\u001b[0m\u001b[0;34m(\u001b[0m\u001b[0mformat\u001b[0m\u001b[0;34m)\u001b[0m\u001b[0;34m\u001b[0m\u001b[0;34m\u001b[0m\u001b[0m\n\u001b[0m\u001b[1;32m      5\u001b[0m \u001b[0;34m\u001b[0m\u001b[0m\n\u001b[1;32m      6\u001b[0m \u001b[0;31m# strptime 정의\u001b[0m\u001b[0;34m\u001b[0m\u001b[0;34m\u001b[0m\u001b[0m\n",
            "\u001b[0;31mTypeError\u001b[0m: descriptor 'strftime' for 'datetime.date' objects doesn't apply to a 'builtin_function_or_method' object"
          ]
        }
      ]
    },
    {
      "cell_type": "markdown",
      "source": [
        "# 튜플 정렬\n",
        "\n",
        "sorted(data, key=lambda x : (x[0], x[1]))\n",
        "\n",
        "개념 : 튜플의 첫 번째 요소를 기준으로 정렬되며, 첫 번째 요소가 같은 경우 두 번째 요소를 비교하며, 계속해서 다음 요소로 비교하게 됩니다\n",
        "\n"
      ],
      "metadata": {
        "id": "9wExM-KfkjBv"
      }
    },
    {
      "cell_type": "code",
      "source": [
        "data = [(1, 'b'),(2, 'a'),(1, 'a')]\n",
        "sorted_data = sorted(data, key=lambda x : (x[0], x[1]), reverse = True)\n",
        "sorted_data"
      ],
      "metadata": {
        "colab": {
          "base_uri": "https://localhost:8080/"
        },
        "id": "ALSwPJRsk0D9",
        "outputId": "23e8f61a-0980-4b82-d3c0-50f6c4566de8"
      },
      "execution_count": null,
      "outputs": [
        {
          "output_type": "execute_result",
          "data": {
            "text/plain": [
              "[(2, 'a'), (1, 'b'), (1, 'a')]"
            ]
          },
          "metadata": {},
          "execution_count": 3
        }
      ]
    },
    {
      "cell_type": "markdown",
      "source": [
        "# type 함수와 __name__속성\n",
        "\n",
        "type(object).__name__\n",
        "\n",
        "객체의 타입을 확인할 때 type()함수를 사용합니다.\n",
        "\n",
        "타입을 반환하고, 반환된 타입 객체의 __name__속성은 해당 타입의 이름을 문자열로 제공합니다.\n",
        "\n",
        "이를 사용하여 각 데이터 타입을 확인하고 그 이름을 문자열로 반환할 수 있습니다."
      ],
      "metadata": {
        "id": "iGqjujYNJEot"
      }
    },
    {
      "cell_type": "code",
      "source": [
        "data = [123, 4.56, 'hello', [1,2,3,4], (4,5), {'a': 1, 'b' :2}]\n",
        "type_names = [type(item).__name__ for item in data]\n",
        "print(type_names)\n",
        "\n"
      ],
      "metadata": {
        "id": "jGBkHd-glE2f",
        "colab": {
          "base_uri": "https://localhost:8080/"
        },
        "outputId": "e79e2263-f371-4784-d78b-eb153ebe3fb1"
      },
      "execution_count": 1,
      "outputs": [
        {
          "output_type": "stream",
          "name": "stdout",
          "text": [
            "['int', 'float', 'str', 'list', 'tuple', 'dict']\n"
          ]
        }
      ]
    },
    {
      "cell_type": "markdown",
      "source": [
        "type 문자열 포메팅\n",
        "\n",
        "기본 형태 : str(object)\n",
        "개념 : 문자열 포매팅은 다양한 데이터 타입을 문자열 형태로 변환하는 과정입니다.\n"
      ],
      "metadata": {
        "id": "DnLcw1Q8LYD-"
      }
    },
    {
      "cell_type": "code",
      "source": [
        "# 타입 객체를 문자열로 변환\n",
        "variable = 10\n",
        "type_string = str(type(variable))\n",
        "print(type_string)\n"
      ],
      "metadata": {
        "id": "3nn_PugoLkH8"
      },
      "execution_count": null,
      "outputs": []
    }
  ]
}