{
  "nbformat": 4,
  "nbformat_minor": 0,
  "metadata": {
    "colab": {
      "provenance": [],
      "authorship_tag": "ABX9TyOAGrdw8Yy3kMY+tbac2JRl",
      "include_colab_link": true
    },
    "kernelspec": {
      "name": "python3",
      "display_name": "Python 3"
    },
    "language_info": {
      "name": "python"
    }
  },
  "cells": [
    {
      "cell_type": "markdown",
      "metadata": {
        "id": "view-in-github",
        "colab_type": "text"
      },
      "source": [
        "<a href=\"https://colab.research.google.com/github/refelim/algorism/blob/main/pyalgo100%EC%9D%98%EB%AC%B8%EB%B2%95.ipynb\" target=\"_parent\"><img src=\"https://colab.research.google.com/assets/colab-badge.svg\" alt=\"Open In Colab\"/></a>"
      ]
    },
    {
      "cell_type": "markdown",
      "source": [
        "# 제너레이터(generater) 표현식"
      ],
      "metadata": {
        "id": "m3qO_qp7fB1z"
      }
    },
    {
      "cell_type": "markdown",
      "source": [
        "제너레이터는 이터레이터의 일종으로, 값을 한 번에 하나씩 생성하고 반환하는 객체입니다.\n",
        "\n",
        "제너레이터 표현식은 리스트 컴프리헨션(List Comprehension)과 유사한 문법을 가지고 있지만, 대괄호([]) 대신 소괄호(())를 사용합니다. 제너레이터 표현식은 메모리 효율적인 방식으로 값을 생성하므로, 큰 데이터 세트를 처리할 때 유용합니다.\n",
        "\n",
        "***제너레이터 표현식은 필요할 때마다 값을 생성하므로 메모리 사용량을 줄일 수 있습니다. 특히 대량의 데이터를 처리하거나 무한한 시퀀스를 생성할 때 유용합니다.***"
      ],
      "metadata": {
        "id": "Tusv6W1_fPZK"
      }
    },
    {
      "cell_type": "code",
      "source": [
        "generater_expression = (x ** 2 for x in range(5))\n",
        "print(list(generater_expression))"
      ],
      "metadata": {
        "colab": {
          "base_uri": "https://localhost:8080/"
        },
        "id": "z5ZdAl8LfXkq",
        "outputId": "03a03552-19ea-4baf-e195-076fd49e1522"
      },
      "execution_count": 5,
      "outputs": [
        {
          "output_type": "stream",
          "name": "stdout",
          "text": [
            "[0, 1, 4, 9, 16]\n"
          ]
        }
      ]
    },
    {
      "cell_type": "markdown",
      "source": [
        "제너레이터 표현식은 함수의 인자로 직접 전달할 수도 있습니다. 예를 들어, sum() 함수와 함께 사용하여 제너레이터 표현식의 값들의 합을 계산할 수 있습니다"
      ],
      "metadata": {
        "id": "ue0xTp-0gTQ6"
      }
    },
    {
      "cell_type": "code",
      "source": [
        "total = sum(x ** 2 for x in range(1, 6))\n",
        "print(total)  # 출력 결과: 55"
      ],
      "metadata": {
        "colab": {
          "base_uri": "https://localhost:8080/"
        },
        "id": "ft1ZOnuYg2Tz",
        "outputId": "df86ad64-d4d4-42d0-cdd2-618b31c0f1b7"
      },
      "execution_count": 6,
      "outputs": [
        {
          "output_type": "stream",
          "name": "stdout",
          "text": [
            "55\n"
          ]
        }
      ]
    },
    {
      "cell_type": "markdown",
      "source": [
        "# 절댓 값 abs()함수\n",
        "\n",
        "차이의 절댓값은 두 값 사이의 거리를 나타내는 것으로, 음수의 경우에도 항상 양수로 반환 됩니다. 예를 들어, 5와 8사이의 차이는 **-3이지만**, 그 절댓값은 3입니다. 프로그래밍에서는 abs() 함수를 사용하여 두 값의 차이의 절댓값을 쉽게 계산할 수 있습니다. 이 연산 데이터 처리, 거리 계산 등 다양항 상황에서 유용하게 활용 됩니다. 예를 들어, 두 점 간의 거리를 계산 할 때나 숫자의 차이를 비교할 때 사용됩니다.\n",
        "\n"
      ],
      "metadata": {
        "id": "TXyALQDImyUx"
      }
    },
    {
      "cell_type": "code",
      "source": [
        "num1 = 5\n",
        "num2 = 8\n",
        "\n",
        "difference = abs(num1 - num2)\n",
        "print(difference)"
      ],
      "metadata": {
        "colab": {
          "base_uri": "https://localhost:8080/"
        },
        "id": "m7tWvUYknWar",
        "outputId": "8e24be33-cc70-4d0f-d1f1-1b9f7852b06d"
      },
      "execution_count": 7,
      "outputs": [
        {
          "output_type": "stream",
          "name": "stdout",
          "text": [
            "3\n"
          ]
        }
      ]
    },
    {
      "cell_type": "markdown",
      "source": [
        "# min 함수\n",
        "\n",
        "min(iterable, *[, default=obj, key=func])\n",
        "\n",
        "개념 : min() 함수는 주어진 반복 가능한(iterable)객체에서 가장 작은 값을 반환합니다. 이 함수는 문자열, 리스트 등과 같은 여러 종류의 객체에서 사용될 수 있습니다.\n",
        "\n",
        "기본적으로는 숫자나 문자열의 크기를 기준으로 가장 작은 값을 찾습니다. 선택적으로 key 매개변수를 통해 비교에 사용할 함수를 지정할 수 있습니다. 이 함수는 각 요소에 적용되어 비교 기준을 변경할 수 있습니다.\n",
        "\n"
      ],
      "metadata": {
        "id": "hOH0Lb3tneaD"
      }
    },
    {
      "cell_type": "code",
      "source": [
        "numbers = [5,2,1,3,54]\n",
        "min_numbers = min(numbers)\n",
        "print(min_numbers)"
      ],
      "metadata": {
        "colab": {
          "base_uri": "https://localhost:8080/"
        },
        "id": "HdskfVt5qjEl",
        "outputId": "9ebb63ea-63b3-4d2e-c6f7-e94c3fb7b63c"
      },
      "execution_count": 8,
      "outputs": [
        {
          "output_type": "stream",
          "name": "stdout",
          "text": [
            "1\n"
          ]
        }
      ]
    },
    {
      "cell_type": "code",
      "source": [],
      "metadata": {
        "id": "chPK3-MXqq7E"
      },
      "execution_count": null,
      "outputs": []
    }
  ]
}