{
  "nbformat": 4,
  "nbformat_minor": 0,
  "metadata": {
    "colab": {
      "provenance": [],
      "collapsed_sections": [
        "m3qO_qp7fB1z",
        "TXyALQDImyUx",
        "hOH0Lb3tneaD"
      ]
    },
    "kernelspec": {
      "name": "python3",
      "display_name": "Python 3"
    },
    "language_info": {
      "name": "python"
    }
  },
  "cells": [
    {
      "cell_type": "markdown",
      "source": [
        "# 제너레이터(generater) 표현식"
      ],
      "metadata": {
        "id": "m3qO_qp7fB1z"
      }
    },
    {
      "cell_type": "markdown",
      "source": [
        "제너레이터는 이터레이터의 일종으로, 값을 한 번에 하나씩 생성하고 반환하는 객체입니다.\n",
        "\n",
        "제너레이터 표현식은 리스트 컴프리헨션(List Comprehension)과 유사한 문법을 가지고 있지만, 대괄호([]) 대신 소괄호(())를 사용합니다. 제너레이터 표현식은 메모리 효율적인 방식으로 값을 생성하므로, 큰 데이터 세트를 처리할 때 유용합니다.\n",
        "\n",
        "***제너레이터 표현식은 필요할 때마다 값을 생성하므로 메모리 사용량을 줄일 수 있습니다. 특히 대량의 데이터를 처리하거나 무한한 시퀀스를 생성할 때 유용합니다.***"
      ],
      "metadata": {
        "id": "Tusv6W1_fPZK"
      }
    },
    {
      "cell_type": "code",
      "source": [
        "generater_expression = (x ** 2 for x in range(5))\n",
        "print(list(generater_expression))"
      ],
      "metadata": {
        "colab": {
          "base_uri": "https://localhost:8080/"
        },
        "id": "z5ZdAl8LfXkq",
        "outputId": "03a03552-19ea-4baf-e195-076fd49e1522"
      },
      "execution_count": null,
      "outputs": [
        {
          "output_type": "stream",
          "name": "stdout",
          "text": [
            "[0, 1, 4, 9, 16]\n"
          ]
        }
      ]
    },
    {
      "cell_type": "markdown",
      "source": [
        "제너레이터 표현식은 함수의 인자로 직접 전달할 수도 있습니다. 예를 들어, sum() 함수와 함께 사용하여 제너레이터 표현식의 값들의 합을 계산할 수 있습니다"
      ],
      "metadata": {
        "id": "ue0xTp-0gTQ6"
      }
    },
    {
      "cell_type": "code",
      "source": [
        "total = sum(x ** 2 for x in range(1, 6))\n",
        "print(total)  # 출력 결과: 55"
      ],
      "metadata": {
        "colab": {
          "base_uri": "https://localhost:8080/"
        },
        "id": "ft1ZOnuYg2Tz",
        "outputId": "df86ad64-d4d4-42d0-cdd2-618b31c0f1b7"
      },
      "execution_count": null,
      "outputs": [
        {
          "output_type": "stream",
          "name": "stdout",
          "text": [
            "55\n"
          ]
        }
      ]
    },
    {
      "cell_type": "markdown",
      "source": [
        "# 절댓 값 abs()함수\n",
        "\n",
        "차이의 절댓값은 두 값 사이의 거리를 나타내는 것으로, 음수의 경우에도 항상 양수로 반환 됩니다. 예를 들어, 5와 8사이의 차이는 **-3이지만**, 그 절댓값은 3입니다. 프로그래밍에서는 abs() 함수를 사용하여 두 값의 차이의 절댓값을 쉽게 계산할 수 있습니다. 이 연산 데이터 처리, 거리 계산 등 다양항 상황에서 유용하게 활용 됩니다. 예를 들어, 두 점 간의 거리를 계산 할 때나 숫자의 차이를 비교할 때 사용됩니다.\n",
        "\n"
      ],
      "metadata": {
        "id": "TXyALQDImyUx"
      }
    },
    {
      "cell_type": "code",
      "source": [
        "num1 = 5\n",
        "num2 = 8\n",
        "\n",
        "difference = abs(num1 - num2)\n",
        "print(difference)"
      ],
      "metadata": {
        "colab": {
          "base_uri": "https://localhost:8080/"
        },
        "id": "m7tWvUYknWar",
        "outputId": "8e24be33-cc70-4d0f-d1f1-1b9f7852b06d"
      },
      "execution_count": null,
      "outputs": [
        {
          "output_type": "stream",
          "name": "stdout",
          "text": [
            "3\n"
          ]
        }
      ]
    },
    {
      "cell_type": "markdown",
      "source": [
        "# min 함수\n",
        "\n",
        "min(iterable, *[, default=obj, key=func])\n",
        "\n",
        "개념 : min() 함수는 주어진 반복 가능한(iterable)객체에서 가장 작은 값을 반환합니다. 이 함수는 문자열, 리스트 등과 같은 여러 종류의 객체에서 사용될 수 있습니다.\n",
        "\n",
        "기본적으로는 숫자나 문자열의 크기를 기준으로 가장 작은 값을 찾습니다. 선택적으로 key 매개변수를 통해 비교에 사용할 함수를 지정할 수 있습니다. 이 함수는 각 요소에 적용되어 비교 기준을 변경할 수 있습니다.\n",
        "\n"
      ],
      "metadata": {
        "id": "hOH0Lb3tneaD"
      }
    },
    {
      "cell_type": "code",
      "source": [
        "numbers = [5,2,1,3,54]\n",
        "min_numbers = min(numbers)\n",
        "print(min_numbers)"
      ],
      "metadata": {
        "colab": {
          "base_uri": "https://localhost:8080/"
        },
        "id": "HdskfVt5qjEl",
        "outputId": "9ebb63ea-63b3-4d2e-c6f7-e94c3fb7b63c"
      },
      "execution_count": null,
      "outputs": [
        {
          "output_type": "stream",
          "name": "stdout",
          "text": [
            "1\n"
          ]
        }
      ]
    },
    {
      "cell_type": "markdown",
      "source": [
        "# max 함수\n",
        "\n",
        "max(iterable, *[, default=obj, key=func])\n",
        "\n",
        "주어진 이터러블(시퀀스)에서 가장 큰 값을 반환합니다. 이 함수는 선택적으로 기본값(default)과 비교를 위한 키 함수를 받는다\n",
        "\n"
      ],
      "metadata": {
        "id": "chPK3-MXqq7E"
      }
    },
    {
      "cell_type": "code",
      "source": [
        "numbers = [1,2,3,4,5]\n",
        "\n",
        "max_value = max(numbers)\n",
        "print(max_value)"
      ],
      "metadata": {
        "colab": {
          "base_uri": "https://localhost:8080/"
        },
        "id": "SyhPoixPIQgm",
        "outputId": "75a81d6a-db3d-43a1-f00c-4229700c1973"
      },
      "execution_count": null,
      "outputs": [
        {
          "output_type": "stream",
          "name": "stdout",
          "text": [
            "5\n"
          ]
        }
      ]
    },
    {
      "cell_type": "markdown",
      "source": [
        "# 리스트 컴프리헨션\n",
        "\n",
        "리스트 컴프리헨션은 파이썬에서 리스트를 간결하게 생성하는 방법 중 하나입니다. 이는 for 루프를 사용하여 리스트를 생성하는 것과 유사하지만 더 간단하고 가독성이 좋습니다.\n"
      ],
      "metadata": {
        "id": "DP25gipHIu42"
      }
    },
    {
      "cell_type": "code",
      "source": [
        "numbers = [x for x in range(10) if x % 2 == 0 ]\n",
        "print(numbers)"
      ],
      "metadata": {
        "colab": {
          "base_uri": "https://localhost:8080/"
        },
        "id": "vGMNT0Z9q_ym",
        "outputId": "2492e91d-48c1-4d1c-d221-90dcbe9fcec4"
      },
      "execution_count": null,
      "outputs": [
        {
          "output_type": "stream",
          "name": "stdout",
          "text": [
            "[0, 2, 4, 6, 8]\n"
          ]
        }
      ]
    },
    {
      "cell_type": "markdown",
      "source": [
        "# filter 함수\n",
        "\n",
        "filter(function, iterable)\n",
        "\n",
        "filter()함수는 주어진 이터러블(시퀀스)에서 조건을 만족하는 요소만 걸러내어 새로운 이터러블 반환합니다. 주어진 함수(function)가 참을 반환하는 요소만 포함 됩니다."
      ],
      "metadata": {
        "id": "ShqmSYFyrGIX"
      }
    },
    {
      "cell_type": "code",
      "source": [
        "# filter 함수를 사용하여 짝수만 필터링\n",
        "\n",
        "numbers = [1,2,3,4,5,6,7,8,9,10]\n",
        "even_numbers = list(filter(lambda x : x % 2 == 0, numbers))\n",
        "print(even_numbers)"
      ],
      "metadata": {
        "colab": {
          "base_uri": "https://localhost:8080/"
        },
        "id": "qPfZv7eFsJwH",
        "outputId": "7dda52c8-ca25-45d2-9578-7777ba526a2e"
      },
      "execution_count": null,
      "outputs": [
        {
          "output_type": "stream",
          "name": "stdout",
          "text": [
            "[2, 4, 6, 8, 10]\n"
          ]
        }
      ]
    },
    {
      "cell_type": "markdown",
      "source": [
        "# map 함수\n",
        "\n",
        "map(function, iterable, ...)\n",
        "\n",
        "map() 함수는 주어진 함수(function)를 시퀀스나 이터러블의 모든 요소에 적용하여 새로운 이터러블을 반환합니다. 즉, 각 요소에 함수를 적용한 결과를 담은 이터러블을 생성합니다.\n",
        "\n"
      ],
      "metadata": {
        "id": "jKwNoC8OskMw"
      }
    },
    {
      "cell_type": "code",
      "source": [
        "numbers = [1,2,3,4,5]\n",
        "squared_numbers = map(lambda x : x ** 2 , numbers)\n",
        "print(list(squared_numbers))"
      ],
      "metadata": {
        "colab": {
          "base_uri": "https://localhost:8080/"
        },
        "id": "TcBuuCG4uaao",
        "outputId": "5051a0ba-3666-4714-8954-a12c917656f9"
      },
      "execution_count": null,
      "outputs": [
        {
          "output_type": "stream",
          "name": "stdout",
          "text": [
            "[1, 4, 9, 16, 25]\n"
          ]
        }
      ]
    },
    {
      "cell_type": "markdown",
      "source": [
        "# split함수\n",
        "\n",
        "str.split(sep=None, maxsplit=1)\n",
        "\n",
        "split()함수는 문자열을 지정된 구분자(sep)를 기준으로 나누어 리스트로 반환합니다. 구분자를 지정하지 않으면 공백을 기준으로 문자열을 나눕니다.\n",
        "\n"
      ],
      "metadata": {
        "id": "m03b_V8du-2A"
      }
    },
    {
      "cell_type": "code",
      "source": [
        "text = \"apple,banana,orange\"\n",
        "fruits = text.split(',')\n",
        "print(fruits)"
      ],
      "metadata": {
        "colab": {
          "base_uri": "https://localhost:8080/"
        },
        "id": "jIhAxgzHmKOd",
        "outputId": "1650d339-6f76-43d6-d71c-dad8ab0fbbe3"
      },
      "execution_count": null,
      "outputs": [
        {
          "output_type": "stream",
          "name": "stdout",
          "text": [
            "['apple', 'banana', 'orange']\n"
          ]
        }
      ]
    },
    {
      "cell_type": "markdown",
      "source": [
        "# 왜 _를 쓰는거야?\n",
        "\n",
        "언더스코어 _는 파이썬에서 일반적으로 사용되지 않는 값이나 변수를 나타내는 관례입니다. 이는 \"던더(dunder)\" 또는 \"플레이스홀더(placeholder)\" 변수라고도 불립니다.\n",
        "파이썬에서는 변수를 할당할 때 모든 값을 사용해야 합니다. 그러나 때로는 어떤 값이 필요하지 않거나 무시하고 싶을 때가 있습니다. 이럴 때 _를 사용하여 해당 값을 무시할 수 있습니다.\n",
        "\n"
      ],
      "metadata": {
        "id": "S-dB1M_omTTt"
      }
    },
    {
      "cell_type": "code",
      "source": [
        "res = [data[0][i] for i, _ in rearranged] # 던더(_) 사용 전\n",
        "res = [data[0][i] for i in [x[0] for x in rearranged]] # 던더(_) 사용 후\n"
      ],
      "metadata": {
        "id": "qxGT4cwbvJ-H"
      },
      "execution_count": null,
      "outputs": []
    },
    {
      "cell_type": "markdown",
      "source": [
        "# enumerate 함수\n",
        "\n",
        "enumerate(iterable, start=0)\n",
        "\n",
        "enumerate()함수는 주어진 이터러블의 각 요소에 대해 인덱스와 값을 반환하는 이터레이터를 생성합니다. 이때, 인덱스는 기본적으로 0부터 시작하며, 선택적으로 시작값(start)을 지정할 수 있습니다.\n",
        "\n"
      ],
      "metadata": {
        "id": "cOo-p-ijwjYX"
      }
    },
    {
      "cell_type": "code",
      "source": [
        "# enumerate 함수를 사용하여 각 요소의 인덱스와 값을 출력하기\n",
        "fruit = ['apple', 'banana', 'orange']\n",
        "for index, fruit in enumerate(fruits) :\n",
        "    print(index, fruit)\n"
      ],
      "metadata": {
        "colab": {
          "base_uri": "https://localhost:8080/"
        },
        "id": "2iQHHZBHw6oA",
        "outputId": "7ef13433-f393-427e-8d50-14b460432d08"
      },
      "execution_count": null,
      "outputs": [
        {
          "output_type": "stream",
          "name": "stdout",
          "text": [
            "0 apple\n",
            "1 banana\n",
            "2 orange\n"
          ]
        }
      ]
    },
    {
      "cell_type": "markdown",
      "source": [
        "# 언패킹\n",
        "\n",
        "변수 1, 변수 2 = 원본 데이터(길이는 2로 가정)\n",
        "\n",
        "시퀀스 객체(리스트, 튜플, 문자열 등)의 요소를 개별 변수로 할당하는 과정을 말합니다"
      ],
      "metadata": {
        "id": "2UG7NuOJxLew"
      }
    },
    {
      "cell_type": "code",
      "source": [
        "# 언패킹 사용\n",
        "numbers = [1,2,3]\n",
        "a, b, c = numbers\n",
        "print(a)\n",
        "print(b)\n",
        "print(c)\n"
      ],
      "metadata": {
        "id": "s3zajDQUxYrn"
      },
      "execution_count": null,
      "outputs": []
    },
    {
      "cell_type": "markdown",
      "source": [
        "# get 메서드\n",
        "\n",
        "딕셔너리.get(key, default_value)\n",
        "\n",
        "특정 키에 대한 값을 반환하는 메서드입니다. 값이 존재하지 않으면 default_value 값을 반환합니다. 만약, default_value를 생략한다면 None이 반환됩니다.\n",
        "\n"
      ],
      "metadata": {
        "id": "wOJpAgxD4UPT"
      }
    },
    {
      "cell_type": "code",
      "source": [
        "dictonary = {'apple' : 2 , 'banana' : 3, 'orange' : 5}\n",
        "\n",
        "print(dictonary.get('apple'))\n",
        "print(dictonary.get('grape'))\n",
        "print(dictonary.get('grape',0))\n"
      ],
      "metadata": {
        "colab": {
          "base_uri": "https://localhost:8080/"
        },
        "id": "iI6FbI9b4nR5",
        "outputId": "3a4f39ca-4f2c-4e2a-adfd-83236c7f0e1c"
      },
      "execution_count": null,
      "outputs": [
        {
          "output_type": "stream",
          "name": "stdout",
          "text": [
            "2\n",
            "None\n",
            "0\n",
            "{'apple': 2, 'banana': 3, 'orange': 5}\n"
          ]
        }
      ]
    },
    {
      "cell_type": "code",
      "source": [],
      "metadata": {
        "id": "dkyuid6R447R"
      },
      "execution_count": null,
      "outputs": []
    }
  ]
}