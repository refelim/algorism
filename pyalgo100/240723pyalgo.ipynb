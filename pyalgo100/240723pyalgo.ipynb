{
 "cells": [
  {
   "cell_type": "markdown",
   "metadata": {},
   "source": [
    "정렬된 숫자 배열과 타겟 숫자가 주어집니다. 주어진 배열에서 타겟 숫자의 위치(인덱스)를 찾는 코드를 작성해주세요. 배열에 타겟 숫자가 없는 경우 False를 반환합니다.\n"
   ]
  },
  {
   "cell_type": "markdown",
   "metadata": {},
   "source": [
    "배열은 오름차순으로 정렬되어 있습니다.\n",
    "배열에 중복된 숫자는 없습니다.\n",
    "배열의 크기는 최소 1에서 최대 100까지입니다.\n"
   ]
  },
  {
   "cell_type": "markdown",
   "metadata": {},
   "source": [
    "입력                    \n",
    "([1, 3, 5, 7, 9], 5)\n",
    "\t\n",
    "([2, 4, 6, 8, 10], 7)\t\n"
   ]
  },
  {
   "cell_type": "markdown",
   "metadata": {},
   "source": [
    "출력\n",
    "\n",
    "2\n",
    "\n",
    "False"
   ]
  },
  {
   "cell_type": "code",
   "execution_count": 2,
   "metadata": {},
   "outputs": [
    {
     "data": {
      "text/plain": [
       "False"
      ]
     },
     "execution_count": 2,
     "metadata": {},
     "output_type": "execute_result"
    }
   ],
   "source": [
    "# 선형 탐색 사용\n",
    "def solution(data):\n",
    "    arr, target = data\n",
    "    # 배열과 타겟 숫자를 분리합니다.\n",
    "    for i in range(len(arr)):\n",
    "        if arr[i] == target:\n",
    "            # 현재 원소가 타겟 숫자와 일치하면 해당 인덱스를 반환합니다.\n",
    "            return i\n",
    "    return False\n",
    "    # 배열의 모든 원소를 확인한 후에도 타겟 숫자를 찾지 못하면 False를 반환합니다. \n",
    "\n",
    "solution(([1, 3, 5, 7, 9], 5))  # 2\n",
    "solution(([2, 4, 6, 8, 10], 7))  # False\n"
   ]
  },
  {
   "cell_type": "code",
   "execution_count": null,
   "metadata": {},
   "outputs": [],
   "source": [
    "# 예외 처리 사용\n",
    "\n",
    "def solution(data):\n",
    "    arr, target = data\n",
    "    try : #1 try except 블록 설정\n",
    "        res = arr.index(target) #2 index()메소드 사용\n",
    "    except : \n",
    "        res = False #3 예외 처리 및 False 반환\n",
    "    return res #결과 반환"
   ]
  }
 ],
 "metadata": {
  "kernelspec": {
   "display_name": "Python 3",
   "language": "python",
   "name": "python3"
  },
  "language_info": {
   "codemirror_mode": {
    "name": "ipython",
    "version": 3
   },
   "file_extension": ".py",
   "mimetype": "text/x-python",
   "name": "python",
   "nbconvert_exporter": "python",
   "pygments_lexer": "ipython3",
   "version": "3.12.4"
  }
 },
 "nbformat": 4,
 "nbformat_minor": 2
}
