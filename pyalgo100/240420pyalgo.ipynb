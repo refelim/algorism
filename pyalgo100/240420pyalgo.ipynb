{
  "nbformat": 4,
  "nbformat_minor": 0,
  "metadata": {
    "colab": {
      "provenance": [],
      "authorship_tag": "ABX9TyM3TN7bOQ+HlHagyOS+qciJ",
      "include_colab_link": true
    },
    "kernelspec": {
      "name": "python3",
      "display_name": "Python 3"
    },
    "language_info": {
      "name": "python"
    }
  },
  "cells": [
    {
      "cell_type": "markdown",
      "metadata": {
        "id": "view-in-github",
        "colab_type": "text"
      },
      "source": [
        "<a href=\"https://colab.research.google.com/github/refelim/algorism/blob/main/240420pyalgo.ipynb\" target=\"_parent\"><img src=\"https://colab.research.google.com/assets/colab-badge.svg\" alt=\"Open In Colab\"/></a>"
      ]
    },
    {
      "cell_type": "code",
      "source": [
        "sen = \"Hellow, world    how are you?\"\n",
        "\n",
        "words = sen.split(\" \")\n",
        "print(words)"
      ],
      "metadata": {
        "colab": {
          "base_uri": "https://localhost:8080/"
        },
        "id": "ZpLI9eXGN3-8",
        "outputId": "f8d9b239-99c3-4fee-e9ed-f00f1fad4a4c"
      },
      "execution_count": 12,
      "outputs": [
        {
          "output_type": "stream",
          "name": "stdout",
          "text": [
            "['Hellow,', 'world', '', '', '', 'how', 'are', 'you?']\n"
          ]
        }
      ]
    },
    {
      "cell_type": "markdown",
      "source": [
        "# 1의 갯수 반환\n",
        "\n",
        "## 리스트의 길이가 0인 경우 0을 반환해주세요\n",
        "\n",
        "\n",
        "\n"
      ],
      "metadata": {
        "id": "FHLVOJ56L5st"
      }
    },
    {
      "cell_type": "code",
      "source": [
        "def solution(data) :\n",
        "    return ''.join(map(str, data)).count('1')\n",
        "    # map 함수를 사용하여 리스트 data의 각 요소를 문자열로 변환합니다. 이후 join 메서드를 사용하여 각 문자열을 하나의 문자열로 연결합니다.\n",
        "    # 문자열에서 count 메서드를 사용하여 문자 \"1\"의 등장 횟수를 세어 반환합니다.\n",
        "    # ''.join을 활용해서 활용해서 위 단계를 결합하여, 리스트의 각 요소를 문자열로 변환한 후 문자열에서 \"1\"의 등장 횟수를 세어 반환합니다.\n",
        "\n",
        "data = [1,11,111,1111]\n",
        "solution(data)\n"
      ],
      "metadata": {
        "colab": {
          "base_uri": "https://localhost:8080/"
        },
        "id": "hfMmkUtqR6RX",
        "outputId": "77985d82-589d-4db9-d98d-14580de14b68"
      },
      "execution_count": 14,
      "outputs": [
        {
          "output_type": "execute_result",
          "data": {
            "text/plain": [
              "10"
            ]
          },
          "metadata": {},
          "execution_count": 14
        }
      ]
    },
    {
      "cell_type": "code",
      "source": [
        "words = ['Hello', 'world', '!']\n",
        "sentence = \"@\".join(words)\n",
        "print(sentence)\n"
      ],
      "metadata": {
        "colab": {
          "base_uri": "https://localhost:8080/"
        },
        "id": "2Vh3CsO7SZ5P",
        "outputId": "2bb1990b-deab-46b9-970a-9cb51afac4bc"
      },
      "execution_count": 17,
      "outputs": [
        {
          "output_type": "stream",
          "name": "stdout",
          "text": [
            "Hello@world@!\n"
          ]
        }
      ]
    },
    {
      "cell_type": "code",
      "source": [
        "def soluiton(data) :\n",
        "    return str(data).count('1') # 1 조건에 맞는 요소 변환\n",
        "    # str()함수를 사용하여 입력된 data를 문자열을 변환합니다. 숫자나 리스트 등 다양한 데이터 타입이 들어올 수 있습니다.\n",
        "    # 변환된 문자열에서 count() 메서드를 사용하여 문자 '1'의 등장 횟수를 세어 반환합니다.\n",
        ""
      ],
      "metadata": {
        "id": "SUBRMc5iTq-I"
      },
      "execution_count": 18,
      "outputs": []
    },
    {
      "cell_type": "code",
      "source": [
        "# count는 문자열에서 특정 문자의 개수를 세어 반환합니다.\n",
        "my_string = \"hello world\"\n",
        "count_e = my_string.count('e')\n",
        "print(count_e)"
      ],
      "metadata": {
        "colab": {
          "base_uri": "https://localhost:8080/"
        },
        "id": "VgksYp9-T4uY",
        "outputId": "9b2b1d59-d40b-4f2d-bf24-e632e5e47790"
      },
      "execution_count": 20,
      "outputs": [
        {
          "output_type": "stream",
          "name": "stdout",
          "text": [
            "1\n"
          ]
        }
      ]
    },
    {
      "cell_type": "markdown",
      "source": [
        "# 문자열 덧셈\n",
        "\n",
        "## 문자열의 숫자를 모두 더하는 solution 함수를 완성해주세요"
      ],
      "metadata": {
        "id": "UflHIApOUrio"
      }
    },
    {
      "cell_type": "code",
      "source": [
        "def solution(data) :\n",
        "    return sum(map(int, filter(str.isdigit, data)))\n",
        "\n",
        "data = '1herer2gfa3'\n",
        "\n",
        "solution(data)\n",
        "\n",
        "     # 1 문자열 필터링\n",
        "    # filter 함수를 사용하여 주어진 리스트 data에서 숫자로만 이루어진 문자열을 찾습니다. str.isdigit함수는 문자열이 모두 숫자인지 여부를 판단하는 함수\n",
        "    # map 함수를 사용하여 이전 단계에서 필터링한 숫자로만 이루어진 문자열을 int로 변환합니다."
      ],
      "metadata": {
        "colab": {
          "base_uri": "https://localhost:8080/"
        },
        "id": "aa8KN_4oVDRI",
        "outputId": "6ad3cd69-af83-480c-cfaf-69394f631501"
      },
      "execution_count": 27,
      "outputs": [
        {
          "output_type": "execute_result",
          "data": {
            "text/plain": [
              "6"
            ]
          },
          "metadata": {},
          "execution_count": 27
        }
      ]
    },
    {
      "cell_type": "code",
      "source": [
        "def solution(data) :\n",
        "    return sum(map(int, [i for i in data if i.isdigit()]))"
      ],
      "metadata": {
        "id": "uBLXwr53WcUo"
      },
      "execution_count": 29,
      "outputs": []
    },
    {
      "cell_type": "code",
      "source": [
        "# map 함수는 주어진 함수를 순회 가능한 객체의 요소에 적용하여 새로운 리스트를 반환합니다.\n",
        "numbers = [1,2,3,4,5]\n",
        "squared_numbers = list(map(lambda x: x**2, numbers))\n",
        "print(squared_numbers)"
      ],
      "metadata": {
        "colab": {
          "base_uri": "https://localhost:8080/"
        },
        "id": "BD0624dwWu_n",
        "outputId": "caec7442-2368-4a75-adbd-64004eb168c7"
      },
      "execution_count": 34,
      "outputs": [
        {
          "output_type": "stream",
          "name": "stdout",
          "text": [
            "[1, 4, 9, 16, 25]\n"
          ]
        }
      ]
    },
    {
      "cell_type": "markdown",
      "source": [
        "# 우선 순위\n",
        "\n",
        "## 업무 우선순위에 따라 업무 이름을 출력\n",
        "\n",
        "입력 [['A', 3], ['B', 1], ['C', 2]]\n",
        "\n",
        "출력 ['B', 'C', 'A']"
      ],
      "metadata": {
        "id": "Gl7DTsAfauCf"
      }
    },
    {
      "cell_type": "code",
      "source": [
        "def solution(data) :\n",
        "    return [i[0] for i in sorted(data, key=lambda x: x[1])]\n",
        "\n",
        "data = [['A', 3], ['B', 1], ['C', 2]]\n",
        "\n",
        "    # sorted() 함수 data 리스트를 두 번째 요소를 기준으로 정렬합니다. key 매개변수에 전달된 람다 함수는 각 요소의 두 번째 요소를 기준으로 정렬을 수행합니다.\n",
        "    # in 에도 sorted 함수 사용 가능\n"
      ],
      "metadata": {
        "id": "MvSK7UVma5QX"
      },
      "execution_count": 35,
      "outputs": []
    },
    {
      "cell_type": "code",
      "source": [
        "def solution(data):\n",
        "    sorted_data = sorted(data, key=lambda x : x[1]) # 1 정렬된 데이터\n",
        "    return list(x[0] for x in sorted_data ) # 2 리스트 생성\n",
        "\n",
        "solution(data)\n",
        "    # 정렬된 데이터 입력 데이터인 data를 sorted() 함수를 사용하여 정렬합니다. 여기서 정렬 기준은 두 번째 요소인 x[1]로 지정되었습니다\n",
        "    # 리스트 생성, 정렬된 데이터에서 각 요소의 첫 번째 요소를 추출하여 새로운 리스트를 생성합니다"
      ],
      "metadata": {
        "colab": {
          "base_uri": "https://localhost:8080/"
        },
        "id": "gmgcOIVud9gR",
        "outputId": "62b369fd-20d7-45f9-eadb-5a7a78b55395"
      },
      "execution_count": 37,
      "outputs": [
        {
          "output_type": "execute_result",
          "data": {
            "text/plain": [
              "['B', 'C', 'A']"
            ]
          },
          "metadata": {},
          "execution_count": 37
        }
      ]
    },
    {
      "cell_type": "markdown",
      "source": [
        "# 두 점 사이의 거리\n",
        "\n",
        "## 두 점 사이가 가장 짧은 쌍을 출력하는 solution 함수를 완성해주세요\n",
        "\n",
        "출력 [1, 3, 4, 6]\n",
        "입력 [3, 4]"
      ],
      "metadata": {
        "id": "4uEEZr8Rf8oq"
      }
    },
    {
      "cell_type": "code",
      "source": [
        "def solution(data) :\n",
        "    x = list(zip(data, data[1:])) # 1 리스트 및 zip()함수\n",
        "    return list(sorted(x, key=lambda x: abs(x[1] - x[0]))[0]) #2 sorted() 함수 절댓 값\n",
        "\n",
        "solution([1, 3, 4, 6])"
      ],
      "metadata": {
        "colab": {
          "base_uri": "https://localhost:8080/"
        },
        "id": "BJGIPC3uhLnJ",
        "outputId": "916b37db-78db-43dc-ee21-a09f93e0b9c4"
      },
      "execution_count": 53,
      "outputs": [
        {
          "output_type": "execute_result",
          "data": {
            "text/plain": [
              "[3, 4]"
            ]
          },
          "metadata": {},
          "execution_count": 53
        }
      ]
    },
    {
      "cell_type": "markdown",
      "source": [
        "1. 리스트 및 zip()함수\n",
        "\n",
        "    zip 함수를 사용하여 입력 데이터의 인접한 요소들을 묶습니다. zip(data, data[1:]는 각 요소와 그 다음 요소를 튜플로 묶은 이터레이터를 생성합니다.\n",
        "\n",
        "2. sorted() 함수 및 차이의 절댓값\n",
        "\n",
        "    sorted() 함수를 사용하여 인접한 요소 쌍을 차이의 절댓값을 기준으로 정렬합니다.\n",
        "\n",
        "    람다 함수 lambda x : abs(x[1] - x[0])를 사용하여 각 요소 쌍의 차이의 절댓값을 기준으로 정렬합니다. 따라서 가장 작은 차이를 가진 쌍이 리스트의 맨 앞에 위치하게 됩니다. 정렬된 결과 중 가장 차이를 가진 쌍을 선택합니다. 이 쌍은 리스트의 맨 앞에 위치하므로 인덱서 0을 사용하여 선택합니다."
      ],
      "metadata": {
        "id": "QxhprE_Jhihy"
      }
    },
    {
      "cell_type": "code",
      "source": [
        "# 풀이 2. min()함수\n",
        "\n",
        "def solution(data):\n",
        "    sorted_data = sorted(data)\n",
        "    print(sorted_data)\n",
        "    return list(min(zip(sorted_data, sorted_data[1:]), key=lambda x: \\\n",
        "                    abs(x[0] - x[1])))\n",
        "\n",
        "# 함수 호출 시 data 변수에 값을 전달합니다.\n",
        "data = [1, 3, 4, 6]\n",
        "solution(data)"
      ],
      "metadata": {
        "colab": {
          "base_uri": "https://localhost:8080/"
        },
        "id": "Mu6snI-6jgtr",
        "outputId": "cbfb90eb-020f-45cf-aa65-1434ce3eaf3f"
      },
      "execution_count": 54,
      "outputs": [
        {
          "output_type": "stream",
          "name": "stdout",
          "text": [
            "[1, 3, 4, 6]\n"
          ]
        },
        {
          "output_type": "execute_result",
          "data": {
            "text/plain": [
              "[3, 4]"
            ]
          },
          "metadata": {},
          "execution_count": 54
        }
      ]
    },
    {
      "cell_type": "code",
      "source": [],
      "metadata": {
        "id": "EzftseNSofUT"
      },
      "execution_count": null,
      "outputs": []
    }
  ]
}