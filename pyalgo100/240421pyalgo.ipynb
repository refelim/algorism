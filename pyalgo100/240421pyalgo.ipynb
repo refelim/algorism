{
  "nbformat": 4,
  "nbformat_minor": 0,
  "metadata": {
    "colab": {
      "provenance": []
    },
    "kernelspec": {
      "name": "python3",
      "display_name": "Python 3"
    },
    "language_info": {
      "name": "python"
    }
  },
  "cells": [
    {
      "cell_type": "markdown",
      "source": [
        "# 반에서 수학점수가 가장 높은 학생의 이름을 출력하는 함수를 완성\n",
        "\n",
        "## 학생이 없거나, 시험을 보지 않는 경우는 없습니다. 동점인 경우는 없습니다.\n",
        "\n",
        "입력 [{'이름': 'A', '국': 30, '영': 20, '수': 85}, {'이름': 'B', '국': 95, '영': 98, '수': 10}]\n",
        "\n",
        "출력 \t'A'\n"
      ],
      "metadata": {
        "id": "knbhMxUV7EoE"
      }
    },
    {
      "cell_type": "code",
      "source": [
        "# 첫 번째 요소 반환\n",
        "\n",
        "def solution(data) :\n",
        "    sorted_data = sorted(data, key=lambda x :x['수'], reverse=True) #1 sorted 함수\n",
        "    return sorted_data[0]['이름'] #2 첫번째 요소 반환\n",
        "\n"
      ],
      "metadata": {
        "id": "mdfUOWNuFZyd"
      },
      "execution_count": 1,
      "outputs": []
    },
    {
      "cell_type": "markdown",
      "source": [
        "1. sorted() 함수\n",
        "\n",
        "입력으로 주어진 data리스트를 '수'키 값을 기준으로 내림차순으로 정렬합니다. 즉 가장 높은 수학 점수를 가진 딕셔너리가 리스트의 맨 앞에 위치\n",
        "\n",
        "2. 첫 번째 요소 반환\n",
        "\n",
        "그 요소의 '이름' 값을 반환합니다. 이는 가장 높은 수학 점수를 가진 주식의 이름을 의미합니다.\n",
        "\n",
        "\n",
        "\n",
        "\n"
      ],
      "metadata": {
        "id": "T-IHG4qxF_MV"
      }
    },
    {
      "cell_type": "code",
      "source": [
        "# max 함수\n",
        "\n",
        "def solution(data) :\n",
        "    return max(data, key=lambda x : x['수'])['이름']\n",
        "\n",
        "solution([{'이름': 'A', '국': 30, '영': 20, '수': 85}])"
      ],
      "metadata": {
        "colab": {
          "base_uri": "https://localhost:8080/",
          "height": 36
        },
        "id": "lvg5soNeGFqT",
        "outputId": "8f9a6313-07eb-47b6-cf32-3ddd789ba15f"
      },
      "execution_count": 3,
      "outputs": [
        {
          "output_type": "execute_result",
          "data": {
            "text/plain": [
              "'A'"
            ],
            "application/vnd.google.colaboratory.intrinsic+json": {
              "type": "string"
            }
          },
          "metadata": {},
          "execution_count": 3
        }
      ]
    },
    {
      "cell_type": "markdown",
      "source": [
        "1. max() 함수\n",
        "\n",
        "입력된 리스트 data에서 '수'키 값을 기준으로 최대값을 가지는 딕셔너리를 찾습니다\n",
        "\n",
        "2. key 매개변수\n",
        "\n",
        "딕셔너리의 '수'키를 기준으로 최대값을 찾습니다."
      ],
      "metadata": {
        "id": "YVoArILVHWQG"
      }
    },
    {
      "cell_type": "code",
      "source": [],
      "metadata": {
        "id": "uVaB7SJBIKlY"
      },
      "execution_count": null,
      "outputs": []
    }
  ]
}